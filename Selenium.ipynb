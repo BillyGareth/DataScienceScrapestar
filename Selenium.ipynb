{
 "cells": [
  {
   "cell_type": "code",
   "execution_count": 6,
   "metadata": {},
   "outputs": [],
   "source": [
    "import selenium\n",
    "from selenium import webdriver as wb\n",
    "webD = wb.Chrome('chromedriver.exe')\n",
    "webD.get('https://webscraper.io/test-sites/e-commerce/static')"
   ]
  },
  {
   "cell_type": "code",
   "execution_count": 7,
   "metadata": {},
   "outputs": [],
   "source": [
    "clickObj = webD.find_element_by_xpath('//*[@id=\"side-menu\"]/li[2]/a')"
   ]
  },
  {
   "cell_type": "code",
   "execution_count": 8,
   "metadata": {},
   "outputs": [
    {
     "data": {
      "text/plain": [
       "'Computers'"
      ]
     },
     "execution_count": 8,
     "metadata": {},
     "output_type": "execute_result"
    }
   ],
   "source": [
    "clickObj.text"
   ]
  },
  {
   "cell_type": "code",
   "execution_count": 9,
   "metadata": {},
   "outputs": [],
   "source": [
    "clickObj.click()"
   ]
  },
  {
   "cell_type": "code",
   "execution_count": 10,
   "metadata": {},
   "outputs": [
    {
     "data": {
      "text/plain": [
       "<selenium.webdriver.remote.webelement.WebElement (session=\"3a4631e3c3ac36b3757ba69c3ac33c32\", element=\"e9dca10d-35f5-4b05-801b-a6b7e7dcc755\")>"
      ]
     },
     "execution_count": 10,
     "metadata": {},
     "output_type": "execute_result"
    }
   ],
   "source": [
    "webD.find_element_by_xpath('//*[@id=\"side-menu\"]/li[2]/ul/li[1]/a')"
   ]
  },
  {
   "cell_type": "code",
   "execution_count": 11,
   "metadata": {},
   "outputs": [],
   "source": [
    "webD.find_element_by_xpath('//*[@id=\"side-menu\"]/li[2]/ul/li[1]/a').click()"
   ]
  },
  {
   "cell_type": "code",
   "execution_count": 12,
   "metadata": {},
   "outputs": [],
   "source": [
    "coversAll = webD.find_element_by_xpath('/html/body/div[1]/div[3]/div/div[2]/div')"
   ]
  },
  {
   "cell_type": "code",
   "execution_count": 13,
   "metadata": {},
   "outputs": [
    {
     "data": {
      "text/plain": [
       "'$416.99\\nPackard 255 G2\\n15.6\", AMD E2-3800 1.3GHz, 4GB, 500GB, Windows 8.1\\n2 reviews\\n$306.99\\nAspire E1-510\\n15.6\", Pentium N3520 2.16GHz, 4GB, 500GB, Linux\\n2 reviews\\n$1178.99\\nThinkPad T540p\\n15.6\", Core i5-4200M, 4GB, 500GB, Win7 Pro 64bit\\n2 reviews\\n$739.99\\nProBook\\n14\", Core i5 2.6GHz, 4GB, 500GB, Win7 Pro 64bit\\n8 reviews\\n$1311.99\\nThinkPad X240\\n12.5\", Core i5-4300U, 8GB, 240GB SSD, Win7 Pro 64bit\\n12 reviews\\n$581.99\\nAspire E1-572G\\n15.6\", Core i5-4200U, 8GB, 1TB, Radeon R7 M265, Windows 8.1\\n2 reviews'"
      ]
     },
     "execution_count": 13,
     "metadata": {},
     "output_type": "execute_result"
    }
   ],
   "source": [
    "coversAll.text"
   ]
  },
  {
   "cell_type": "code",
   "execution_count": 14,
   "metadata": {},
   "outputs": [
    {
     "data": {
      "text/plain": [
       "[<selenium.webdriver.remote.webelement.WebElement (session=\"3a4631e3c3ac36b3757ba69c3ac33c32\", element=\"f50c3ed3-2fff-4268-8a8a-1a87194bf67f\")>,\n",
       " <selenium.webdriver.remote.webelement.WebElement (session=\"3a4631e3c3ac36b3757ba69c3ac33c32\", element=\"52c664fd-7c93-462a-a8c9-af982987a654\")>,\n",
       " <selenium.webdriver.remote.webelement.WebElement (session=\"3a4631e3c3ac36b3757ba69c3ac33c32\", element=\"7df36f74-df94-49ee-9aff-9c9aa1d2a141\")>,\n",
       " <selenium.webdriver.remote.webelement.WebElement (session=\"3a4631e3c3ac36b3757ba69c3ac33c32\", element=\"8a6a5b82-ec61-4617-9648-910afbb4cbf3\")>,\n",
       " <selenium.webdriver.remote.webelement.WebElement (session=\"3a4631e3c3ac36b3757ba69c3ac33c32\", element=\"d0888f27-0d0b-4f1e-9607-63ebbe90c627\")>,\n",
       " <selenium.webdriver.remote.webelement.WebElement (session=\"3a4631e3c3ac36b3757ba69c3ac33c32\", element=\"2e056cee-8325-46ac-b972-a3e176f1e640\")>]"
      ]
     },
     "execution_count": 14,
     "metadata": {},
     "output_type": "execute_result"
    }
   ],
   "source": [
    "webD.find_elements_by_class_name('thumbnail')"
   ]
  },
  {
   "cell_type": "code",
   "execution_count": 15,
   "metadata": {},
   "outputs": [],
   "source": [
    "#store it\n",
    "productInfoList = webD.find_elements_by_class_name('thumbnail')"
   ]
  },
  {
   "cell_type": "code",
   "execution_count": 16,
   "metadata": {},
   "outputs": [
    {
     "data": {
      "text/plain": [
       "<selenium.webdriver.remote.webelement.WebElement (session=\"3a4631e3c3ac36b3757ba69c3ac33c32\", element=\"f50c3ed3-2fff-4268-8a8a-1a87194bf67f\")>"
      ]
     },
     "execution_count": 16,
     "metadata": {},
     "output_type": "execute_result"
    }
   ],
   "source": [
    "productInfoList[0]"
   ]
  },
  {
   "cell_type": "code",
   "execution_count": 17,
   "metadata": {},
   "outputs": [
    {
     "data": {
      "text/plain": [
       "'$416.99\\nPackard 255 G2\\n15.6\", AMD E2-3800 1.3GHz, 4GB, 500GB, Windows 8.1\\n2 reviews'"
      ]
     },
     "execution_count": 17,
     "metadata": {},
     "output_type": "execute_result"
    }
   ],
   "source": [
    "productInfoList[0].text"
   ]
  },
  {
   "cell_type": "code",
   "execution_count": null,
   "metadata": {},
   "outputs": [],
   "source": []
  }
 ],
 "metadata": {
  "kernelspec": {
   "display_name": "Python 3",
   "language": "python",
   "name": "python3"
  },
  "language_info": {
   "codemirror_mode": {
    "name": "ipython",
    "version": 3
   },
   "file_extension": ".py",
   "mimetype": "text/x-python",
   "name": "python",
   "nbconvert_exporter": "python",
   "pygments_lexer": "ipython3",
   "version": "3.7.4"
  }
 },
 "nbformat": 4,
 "nbformat_minor": 4
}
