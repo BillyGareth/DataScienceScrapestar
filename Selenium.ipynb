{
 "cells": [
  {
   "cell_type": "code",
   "execution_count": 1,
   "metadata": {},
   "outputs": [],
   "source": [
    "import selenium\n",
    "from selenium import webdriver as wb\n",
    "webD = wb.Chrome('chromedriver.exe')\n",
    "webD.get('https://webscraper.io/test-sites/e-commerce/static')"
   ]
  },
  {
   "cell_type": "code",
   "execution_count": 2,
   "metadata": {},
   "outputs": [],
   "source": [
    "clickObj = webD.find_element_by_xpath('//*[@id=\"side-menu\"]/li[2]/a')"
   ]
  },
  {
   "cell_type": "code",
   "execution_count": 3,
   "metadata": {},
   "outputs": [
    {
     "data": {
      "text/plain": [
       "'Computers'"
      ]
     },
     "execution_count": 3,
     "metadata": {},
     "output_type": "execute_result"
    }
   ],
   "source": [
    "clickObj.text"
   ]
  },
  {
   "cell_type": "code",
   "execution_count": 4,
   "metadata": {},
   "outputs": [],
   "source": [
    "clickObj.click()"
   ]
  },
  {
   "cell_type": "code",
   "execution_count": 5,
   "metadata": {},
   "outputs": [
    {
     "data": {
      "text/plain": [
       "<selenium.webdriver.remote.webelement.WebElement (session=\"7bb16e54cbe899f53bb883987df89176\", element=\"b1714165-2333-4082-a15f-ce605ad0e431\")>"
      ]
     },
     "execution_count": 5,
     "metadata": {},
     "output_type": "execute_result"
    }
   ],
   "source": [
    "webD.find_element_by_xpath('//*[@id=\"side-menu\"]/li[2]/ul/li[1]/a')"
   ]
  },
  {
   "cell_type": "code",
   "execution_count": 6,
   "metadata": {},
   "outputs": [],
   "source": [
    "webD.find_element_by_xpath('//*[@id=\"side-menu\"]/li[2]/ul/li[1]/a').click()"
   ]
  },
  {
   "cell_type": "code",
   "execution_count": 7,
   "metadata": {},
   "outputs": [],
   "source": [
    "coversAll = webD.find_element_by_xpath('/html/body/div[1]/div[3]/div/div[2]/div')"
   ]
  },
  {
   "cell_type": "code",
   "execution_count": 8,
   "metadata": {},
   "outputs": [
    {
     "data": {
      "text/plain": [
       "'$416.99\\nPackard 255 G2\\n15.6\", AMD E2-3800 1.3GHz, 4GB, 500GB, Windows 8.1\\n2 reviews\\n$306.99\\nAspire E1-510\\n15.6\", Pentium N3520 2.16GHz, 4GB, 500GB, Linux\\n2 reviews\\n$1178.99\\nThinkPad T540p\\n15.6\", Core i5-4200M, 4GB, 500GB, Win7 Pro 64bit\\n2 reviews\\n$739.99\\nProBook\\n14\", Core i5 2.6GHz, 4GB, 500GB, Win7 Pro 64bit\\n8 reviews\\n$1311.99\\nThinkPad X240\\n12.5\", Core i5-4300U, 8GB, 240GB SSD, Win7 Pro 64bit\\n12 reviews\\n$581.99\\nAspire E1-572G\\n15.6\", Core i5-4200U, 8GB, 1TB, Radeon R7 M265, Windows 8.1\\n2 reviews'"
      ]
     },
     "execution_count": 8,
     "metadata": {},
     "output_type": "execute_result"
    }
   ],
   "source": [
    "coversAll.text"
   ]
  },
  {
   "cell_type": "code",
   "execution_count": 9,
   "metadata": {},
   "outputs": [
    {
     "data": {
      "text/plain": [
       "[<selenium.webdriver.remote.webelement.WebElement (session=\"7bb16e54cbe899f53bb883987df89176\", element=\"4eca0d66-b118-4494-9256-236c4da9b682\")>,\n",
       " <selenium.webdriver.remote.webelement.WebElement (session=\"7bb16e54cbe899f53bb883987df89176\", element=\"54d3542e-cb45-4d4c-9057-47b8a514438b\")>,\n",
       " <selenium.webdriver.remote.webelement.WebElement (session=\"7bb16e54cbe899f53bb883987df89176\", element=\"84749161-86b7-4d7b-a204-41ac2b51110d\")>,\n",
       " <selenium.webdriver.remote.webelement.WebElement (session=\"7bb16e54cbe899f53bb883987df89176\", element=\"97fe3b77-e5f2-4273-a057-c265401ee7d1\")>,\n",
       " <selenium.webdriver.remote.webelement.WebElement (session=\"7bb16e54cbe899f53bb883987df89176\", element=\"8c515968-fcda-4587-a8db-6c0f3f4c8c1a\")>,\n",
       " <selenium.webdriver.remote.webelement.WebElement (session=\"7bb16e54cbe899f53bb883987df89176\", element=\"24c0387c-3a76-4bbe-8fd4-41d41358d9cc\")>]"
      ]
     },
     "execution_count": 9,
     "metadata": {},
     "output_type": "execute_result"
    }
   ],
   "source": [
    "webD.find_elements_by_class_name('thumbnail')"
   ]
  },
  {
   "cell_type": "code",
   "execution_count": 10,
   "metadata": {},
   "outputs": [],
   "source": [
    "#store it\n",
    "productInfoList = webD.find_elements_by_class_name('thumbnail')"
   ]
  },
  {
   "cell_type": "code",
   "execution_count": 11,
   "metadata": {},
   "outputs": [],
   "source": [
    "ppp = productInfoList[0]"
   ]
  },
  {
   "cell_type": "code",
   "execution_count": 12,
   "metadata": {},
   "outputs": [
    {
     "data": {
      "text/plain": [
       "'$416.99\\nPackard 255 G2\\n15.6\", AMD E2-3800 1.3GHz, 4GB, 500GB, Windows 8.1\\n2 reviews'"
      ]
     },
     "execution_count": 12,
     "metadata": {},
     "output_type": "execute_result"
    }
   ],
   "source": [
    "productInfoList[0].text"
   ]
  },
  {
   "cell_type": "code",
   "execution_count": 13,
   "metadata": {},
   "outputs": [],
   "source": [
    "ppp1 = ppp.find_elements_by_tag_name('h4')[-1]"
   ]
  },
  {
   "cell_type": "code",
   "execution_count": 14,
   "metadata": {},
   "outputs": [
    {
     "data": {
      "text/plain": [
       "'Packard 255 G2'"
      ]
     },
     "execution_count": 14,
     "metadata": {},
     "output_type": "execute_result"
    }
   ],
   "source": [
    "ppp1.text"
   ]
  },
  {
   "cell_type": "code",
   "execution_count": 15,
   "metadata": {},
   "outputs": [],
   "source": [
    "ppp2 = ppp1.find_element_by_tag_name('a')"
   ]
  },
  {
   "cell_type": "code",
   "execution_count": 16,
   "metadata": {},
   "outputs": [
    {
     "data": {
      "text/plain": [
       "'https://webscraper.io/test-sites/e-commerce/static/product/516'"
      ]
     },
     "execution_count": 16,
     "metadata": {},
     "output_type": "execute_result"
    }
   ],
   "source": [
    "ppp2.get_property('href')"
   ]
  },
  {
   "cell_type": "code",
   "execution_count": 17,
   "metadata": {},
   "outputs": [],
   "source": [
    "# to find the links of items in page one\n",
    "listOfLinks=[]\n",
    "for el in productInfoList:\n",
    "    ppp1 = el.find_elements_by_tag_name('h4')[-1] #change to el not ppp\n",
    "    ppp2 = ppp1.find_element_by_tag_name('a')\n",
    "    listOfLinks.append(ppp2.get_property('href'))"
   ]
  },
  {
   "cell_type": "code",
   "execution_count": 18,
   "metadata": {},
   "outputs": [
    {
     "data": {
      "text/plain": [
       "['https://webscraper.io/test-sites/e-commerce/static/product/516',\n",
       " 'https://webscraper.io/test-sites/e-commerce/static/product/517',\n",
       " 'https://webscraper.io/test-sites/e-commerce/static/product/518',\n",
       " 'https://webscraper.io/test-sites/e-commerce/static/product/519',\n",
       " 'https://webscraper.io/test-sites/e-commerce/static/product/520',\n",
       " 'https://webscraper.io/test-sites/e-commerce/static/product/521']"
      ]
     },
     "execution_count": 18,
     "metadata": {},
     "output_type": "execute_result"
    }
   ],
   "source": [
    "listOfLinks"
   ]
  },
  {
   "cell_type": "code",
   "execution_count": 19,
   "metadata": {},
   "outputs": [],
   "source": [
    "#scrolling through pages not so effective\n",
    "webD.find_element_by_xpath('/html/body/div[1]/div[3]/div/div[2]/ul/li[13]/a').click()"
   ]
  },
  {
   "cell_type": "code",
   "execution_count": 20,
   "metadata": {},
   "outputs": [],
   "source": [
    "listOfLinks=[]\n",
    "condition=True\n",
    "while condition:\n",
    "    productInfoList = webD.find_elements_by_class_name('thumbnail')\n",
    "    for el in productInfoList:\n",
    "        ppp1 = el.find_elements_by_tag_name('h4')[-1] #change to el not ppp\n",
    "        ppp2 = ppp1.find_element_by_tag_name('a')\n",
    "        listOfLinks.append(ppp2.get_property('href'))\n",
    "    \n",
    "    try:\n",
    "        webD.find_element_by_xpath('/html/body/div[1]/div[3]/div/div[2]/ul/li[13]/a').click()\n",
    "        #not so exact\n",
    "    except:\n",
    "        condition=False"
   ]
  },
  {
   "cell_type": "code",
   "execution_count": 21,
   "metadata": {
    "scrolled": true
   },
   "outputs": [
    {
     "data": {
      "text/plain": [
       "45"
      ]
     },
     "execution_count": 21,
     "metadata": {},
     "output_type": "execute_result"
    }
   ],
   "source": [
    "len(listOfLinks) #not effective enough"
   ]
  },
  {
   "cell_type": "code",
   "execution_count": 22,
   "metadata": {
    "scrolled": true
   },
   "outputs": [],
   "source": [
    "listOfLinks=[]\n",
    "condition=True\n",
    "while condition:\n",
    "    productInfoList = webD.find_elements_by_class_name('thumbnail')\n",
    "    for el in productInfoList:\n",
    "        ppp1 = el.find_elements_by_tag_name('h4')[-1] #change to el not ppp\n",
    "        ppp2 = ppp1.find_element_by_tag_name('a')\n",
    "        listOfLinks.append(ppp2.get_property('href'))\n",
    "    \n",
    "    try:\n",
    "        webD.find_elements_by_class_name('page-link')[-1].click() #last element is >\n",
    "        #webD.find_element_by_xpath('/html/body/div[1]/div[3]/div/div[2]/ul/li[13]/a').click()\n",
    "        #not so exact\n",
    "    except:\n",
    "        condition=False"
   ]
  },
  {
   "cell_type": "code",
   "execution_count": 23,
   "metadata": {
    "scrolled": true
   },
   "outputs": [
    {
     "data": {
      "text/plain": [
       "510"
      ]
     },
     "execution_count": 23,
     "metadata": {},
     "output_type": "execute_result"
    }
   ],
   "source": [
    "len(listOfLinks)"
   ]
  },
  {
   "cell_type": "code",
   "execution_count": 27,
   "metadata": {},
   "outputs": [
    {
     "data": {
      "text/plain": [
       "[<selenium.webdriver.remote.webelement.WebElement (session=\"b9341269e4bea2c6ebd9ea51fb507663\", element=\"e5419aac-7393-4bfa-8155-fcc73a03c331\")>,\n",
       " <selenium.webdriver.remote.webelement.WebElement (session=\"b9341269e4bea2c6ebd9ea51fb507663\", element=\"8467a552-2433-484e-b4e7-b9c0d16693b4\")>,\n",
       " <selenium.webdriver.remote.webelement.WebElement (session=\"b9341269e4bea2c6ebd9ea51fb507663\", element=\"702c1cd0-7bfb-43df-af35-2077f3cffce0\")>,\n",
       " <selenium.webdriver.remote.webelement.WebElement (session=\"b9341269e4bea2c6ebd9ea51fb507663\", element=\"ad6fe032-82c5-41ca-b559-d70d592fde84\")>,\n",
       " <selenium.webdriver.remote.webelement.WebElement (session=\"b9341269e4bea2c6ebd9ea51fb507663\", element=\"983044d9-296f-48b5-a0ac-d3bad419fb00\")>,\n",
       " <selenium.webdriver.remote.webelement.WebElement (session=\"b9341269e4bea2c6ebd9ea51fb507663\", element=\"6061ef8d-b7af-4dc4-acf4-33d156325156\")>,\n",
       " <selenium.webdriver.remote.webelement.WebElement (session=\"b9341269e4bea2c6ebd9ea51fb507663\", element=\"40eddf85-ca05-4d36-b3e3-856c5e921792\")>,\n",
       " <selenium.webdriver.remote.webelement.WebElement (session=\"b9341269e4bea2c6ebd9ea51fb507663\", element=\"43a4d081-ac24-4d39-a7bb-9060c8acf31b\")>,\n",
       " <selenium.webdriver.remote.webelement.WebElement (session=\"b9341269e4bea2c6ebd9ea51fb507663\", element=\"4b360b1a-aec6-46f0-8508-e90d1254cf32\")>,\n",
       " <selenium.webdriver.remote.webelement.WebElement (session=\"b9341269e4bea2c6ebd9ea51fb507663\", element=\"0904f1ab-c3c3-4fc1-8d16-5d59321cb647\")>,\n",
       " <selenium.webdriver.remote.webelement.WebElement (session=\"b9341269e4bea2c6ebd9ea51fb507663\", element=\"66356906-b5d7-4932-902d-83c9cb5365ac\")>,\n",
       " <selenium.webdriver.remote.webelement.WebElement (session=\"b9341269e4bea2c6ebd9ea51fb507663\", element=\"d145a437-2f20-4794-8c06-5c26bf9f2541\")>,\n",
       " <selenium.webdriver.remote.webelement.WebElement (session=\"b9341269e4bea2c6ebd9ea51fb507663\", element=\"84fa3423-9855-40f5-82f8-87579e1b0f7b\")>,\n",
       " <selenium.webdriver.remote.webelement.WebElement (session=\"b9341269e4bea2c6ebd9ea51fb507663\", element=\"61af5a9e-b27e-4543-b198-deabd3434a24\")>]"
      ]
     },
     "execution_count": 27,
     "metadata": {},
     "output_type": "execute_result"
    }
   ],
   "source": [
    "webD.find_elements_by_class_name('page-link')"
   ]
  },
  {
   "cell_type": "code",
   "execution_count": 26,
   "metadata": {},
   "outputs": [
    {
     "data": {
      "text/plain": [
       "'›'"
      ]
     },
     "execution_count": 26,
     "metadata": {},
     "output_type": "execute_result"
    }
   ],
   "source": [
    " webD.find_elements_by_class_name('page-link')[-1].text"
   ]
  },
  {
   "cell_type": "code",
   "execution_count": null,
   "metadata": {},
   "outputs": [],
   "source": []
  }
 ],
 "metadata": {
  "kernelspec": {
   "display_name": "Python 3",
   "language": "python",
   "name": "python3"
  },
  "language_info": {
   "codemirror_mode": {
    "name": "ipython",
    "version": 3
   },
   "file_extension": ".py",
   "mimetype": "text/x-python",
   "name": "python",
   "nbconvert_exporter": "python",
   "pygments_lexer": "ipython3",
   "version": "3.7.4"
  }
 },
 "nbformat": 4,
 "nbformat_minor": 4
}
