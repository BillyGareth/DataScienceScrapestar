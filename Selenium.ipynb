{
 "cells": [
  {
   "cell_type": "code",
   "execution_count": 6,
   "metadata": {},
   "outputs": [],
   "source": [
    "import selenium\n",
    "from selenium import webdriver as wb\n",
    "webD = wb.Chrome('chromedriver.exe')\n",
    "webD.get('https://webscraper.io/test-sites/e-commerce/static')"
   ]
  },
  {
   "cell_type": "code",
   "execution_count": 7,
   "metadata": {},
   "outputs": [],
   "source": [
    "clickObj = webD.find_element_by_xpath('//*[@id=\"side-menu\"]/li[2]/a')"
   ]
  },
  {
   "cell_type": "code",
   "execution_count": 8,
   "metadata": {},
   "outputs": [
    {
     "data": {
      "text/plain": [
       "'Computers'"
      ]
     },
     "execution_count": 8,
     "metadata": {},
     "output_type": "execute_result"
    }
   ],
   "source": [
    "clickObj.text"
   ]
  },
  {
   "cell_type": "code",
   "execution_count": 9,
   "metadata": {},
   "outputs": [],
   "source": [
    "clickObj.click()"
   ]
  },
  {
   "cell_type": "code",
   "execution_count": 10,
   "metadata": {},
   "outputs": [
    {
     "data": {
      "text/plain": [
       "<selenium.webdriver.remote.webelement.WebElement (session=\"3a4631e3c3ac36b3757ba69c3ac33c32\", element=\"e9dca10d-35f5-4b05-801b-a6b7e7dcc755\")>"
      ]
     },
     "execution_count": 10,
     "metadata": {},
     "output_type": "execute_result"
    }
   ],
   "source": [
    "webD.find_element_by_xpath('//*[@id=\"side-menu\"]/li[2]/ul/li[1]/a')"
   ]
  },
  {
   "cell_type": "code",
   "execution_count": 11,
   "metadata": {},
   "outputs": [],
   "source": [
    "webD.find_element_by_xpath('//*[@id=\"side-menu\"]/li[2]/ul/li[1]/a').click()"
   ]
  },
  {
   "cell_type": "code",
   "execution_count": 12,
   "metadata": {},
   "outputs": [],
   "source": [
    "coversAll = webD.find_element_by_xpath('/html/body/div[1]/div[3]/div/div[2]/div')"
   ]
  },
  {
   "cell_type": "code",
   "execution_count": 13,
   "metadata": {},
   "outputs": [
    {
     "data": {
      "text/plain": [
       "'$416.99\\nPackard 255 G2\\n15.6\", AMD E2-3800 1.3GHz, 4GB, 500GB, Windows 8.1\\n2 reviews\\n$306.99\\nAspire E1-510\\n15.6\", Pentium N3520 2.16GHz, 4GB, 500GB, Linux\\n2 reviews\\n$1178.99\\nThinkPad T540p\\n15.6\", Core i5-4200M, 4GB, 500GB, Win7 Pro 64bit\\n2 reviews\\n$739.99\\nProBook\\n14\", Core i5 2.6GHz, 4GB, 500GB, Win7 Pro 64bit\\n8 reviews\\n$1311.99\\nThinkPad X240\\n12.5\", Core i5-4300U, 8GB, 240GB SSD, Win7 Pro 64bit\\n12 reviews\\n$581.99\\nAspire E1-572G\\n15.6\", Core i5-4200U, 8GB, 1TB, Radeon R7 M265, Windows 8.1\\n2 reviews'"
      ]
     },
     "execution_count": 13,
     "metadata": {},
     "output_type": "execute_result"
    }
   ],
   "source": [
    "coversAll.text"
   ]
  },
  {
   "cell_type": "code",
   "execution_count": 14,
   "metadata": {},
   "outputs": [
    {
     "data": {
      "text/plain": [
       "[<selenium.webdriver.remote.webelement.WebElement (session=\"3a4631e3c3ac36b3757ba69c3ac33c32\", element=\"f50c3ed3-2fff-4268-8a8a-1a87194bf67f\")>,\n",
       " <selenium.webdriver.remote.webelement.WebElement (session=\"3a4631e3c3ac36b3757ba69c3ac33c32\", element=\"52c664fd-7c93-462a-a8c9-af982987a654\")>,\n",
       " <selenium.webdriver.remote.webelement.WebElement (session=\"3a4631e3c3ac36b3757ba69c3ac33c32\", element=\"7df36f74-df94-49ee-9aff-9c9aa1d2a141\")>,\n",
       " <selenium.webdriver.remote.webelement.WebElement (session=\"3a4631e3c3ac36b3757ba69c3ac33c32\", element=\"8a6a5b82-ec61-4617-9648-910afbb4cbf3\")>,\n",
       " <selenium.webdriver.remote.webelement.WebElement (session=\"3a4631e3c3ac36b3757ba69c3ac33c32\", element=\"d0888f27-0d0b-4f1e-9607-63ebbe90c627\")>,\n",
       " <selenium.webdriver.remote.webelement.WebElement (session=\"3a4631e3c3ac36b3757ba69c3ac33c32\", element=\"2e056cee-8325-46ac-b972-a3e176f1e640\")>]"
      ]
     },
     "execution_count": 14,
     "metadata": {},
     "output_type": "execute_result"
    }
   ],
   "source": [
    "webD.find_elements_by_class_name('thumbnail')"
   ]
  },
  {
   "cell_type": "code",
   "execution_count": 15,
   "metadata": {},
   "outputs": [],
   "source": [
    "#store it\n",
    "productInfoList = webD.find_elements_by_class_name('thumbnail')"
   ]
  },
  {
   "cell_type": "code",
   "execution_count": 18,
   "metadata": {},
   "outputs": [],
   "source": [
    "ppp = productInfoList[0]"
   ]
  },
  {
   "cell_type": "code",
   "execution_count": 17,
   "metadata": {},
   "outputs": [
    {
     "data": {
      "text/plain": [
       "'$416.99\\nPackard 255 G2\\n15.6\", AMD E2-3800 1.3GHz, 4GB, 500GB, Windows 8.1\\n2 reviews'"
      ]
     },
     "execution_count": 17,
     "metadata": {},
     "output_type": "execute_result"
    }
   ],
   "source": [
    "productInfoList[0].text"
   ]
  },
  {
   "cell_type": "code",
   "execution_count": 19,
   "metadata": {},
   "outputs": [],
   "source": [
    "ppp1 = ppp.find_elements_by_tag_name('h4')[-1]"
   ]
  },
  {
   "cell_type": "code",
   "execution_count": 20,
   "metadata": {},
   "outputs": [
    {
     "data": {
      "text/plain": [
       "'Packard 255 G2'"
      ]
     },
     "execution_count": 20,
     "metadata": {},
     "output_type": "execute_result"
    }
   ],
   "source": [
    "ppp1.text"
   ]
  },
  {
   "cell_type": "code",
   "execution_count": 21,
   "metadata": {},
   "outputs": [],
   "source": [
    "ppp2 = ppp1.find_element_by_tag_name('a')"
   ]
  },
  {
   "cell_type": "code",
   "execution_count": 24,
   "metadata": {},
   "outputs": [
    {
     "data": {
      "text/plain": [
       "'https://webscraper.io/test-sites/e-commerce/static/product/516'"
      ]
     },
     "execution_count": 24,
     "metadata": {},
     "output_type": "execute_result"
    }
   ],
   "source": [
    "ppp2.get_property('href')"
   ]
  },
  {
   "cell_type": "code",
   "execution_count": 27,
   "metadata": {},
   "outputs": [],
   "source": [
    "# to find the links of items in page one\n",
    "listOfLinks=[]\n",
    "for el in productInfoList:\n",
    "    ppp1 = el.find_elements_by_tag_name('h4')[-1] #change to el not ppp\n",
    "    ppp2 = ppp1.find_element_by_tag_name('a')\n",
    "    listOfLinks.append(ppp2.get_property('href'))"
   ]
  },
  {
   "cell_type": "code",
   "execution_count": 28,
   "metadata": {},
   "outputs": [
    {
     "data": {
      "text/plain": [
       "['https://webscraper.io/test-sites/e-commerce/static/product/516',\n",
       " 'https://webscraper.io/test-sites/e-commerce/static/product/517',\n",
       " 'https://webscraper.io/test-sites/e-commerce/static/product/518',\n",
       " 'https://webscraper.io/test-sites/e-commerce/static/product/519',\n",
       " 'https://webscraper.io/test-sites/e-commerce/static/product/520',\n",
       " 'https://webscraper.io/test-sites/e-commerce/static/product/521']"
      ]
     },
     "execution_count": 28,
     "metadata": {},
     "output_type": "execute_result"
    }
   ],
   "source": [
    "listOfLinks"
   ]
  },
  {
   "cell_type": "code",
   "execution_count": 30,
   "metadata": {},
   "outputs": [],
   "source": [
    "#scrolling through pages\n",
    "webD.find_element_by_xpath('/html/body/div[1]/div[3]/div/div[2]/ul/li[13]/a').click()"
   ]
  },
  {
   "cell_type": "code",
   "execution_count": 31,
   "metadata": {},
   "outputs": [],
   "source": [
    "listOfLinks=[]\n",
    "condition=True\n",
    "while condition:\n",
    "    productInfoList = webD.find_elements_by_class_name('thumbnail')\n",
    "    for el in productInfoList:\n",
    "        ppp1 = el.find_elements_by_tag_name('h4')[-1] #change to el not ppp\n",
    "        ppp2 = ppp1.find_element_by_tag_name('a')\n",
    "        listOfLinks.append(ppp2.get_property('href'))\n",
    "    \n",
    "    try:\n",
    "        webD.find_element_by_xpath('/html/body/div[1]/div[3]/div/div[2]/ul/li[13]/a').click()\n",
    "        #not so exact\n",
    "    except:\n",
    "        condition=False"
   ]
  },
  {
   "cell_type": "code",
   "execution_count": 34,
   "metadata": {
    "scrolled": true
   },
   "outputs": [
    {
     "data": {
      "text/plain": [
       "['https://webscraper.io/test-sites/e-commerce/static/product/522',\n",
       " 'https://webscraper.io/test-sites/e-commerce/static/product/523',\n",
       " 'https://webscraper.io/test-sites/e-commerce/static/product/524',\n",
       " 'https://webscraper.io/test-sites/e-commerce/static/product/525',\n",
       " 'https://webscraper.io/test-sites/e-commerce/static/product/526',\n",
       " 'https://webscraper.io/test-sites/e-commerce/static/product/527',\n",
       " 'https://webscraper.io/test-sites/e-commerce/static/product/528',\n",
       " 'https://webscraper.io/test-sites/e-commerce/static/product/529',\n",
       " 'https://webscraper.io/test-sites/e-commerce/static/product/530',\n",
       " 'https://webscraper.io/test-sites/e-commerce/static/product/531',\n",
       " 'https://webscraper.io/test-sites/e-commerce/static/product/532',\n",
       " 'https://webscraper.io/test-sites/e-commerce/static/product/533',\n",
       " 'https://webscraper.io/test-sites/e-commerce/static/product/528',\n",
       " 'https://webscraper.io/test-sites/e-commerce/static/product/529',\n",
       " 'https://webscraper.io/test-sites/e-commerce/static/product/530',\n",
       " 'https://webscraper.io/test-sites/e-commerce/static/product/531',\n",
       " 'https://webscraper.io/test-sites/e-commerce/static/product/532',\n",
       " 'https://webscraper.io/test-sites/e-commerce/static/product/533',\n",
       " 'https://webscraper.io/test-sites/e-commerce/static/product/528',\n",
       " 'https://webscraper.io/test-sites/e-commerce/static/product/529',\n",
       " 'https://webscraper.io/test-sites/e-commerce/static/product/530',\n",
       " 'https://webscraper.io/test-sites/e-commerce/static/product/531',\n",
       " 'https://webscraper.io/test-sites/e-commerce/static/product/532',\n",
       " 'https://webscraper.io/test-sites/e-commerce/static/product/533',\n",
       " 'https://webscraper.io/test-sites/e-commerce/static/product/528',\n",
       " 'https://webscraper.io/test-sites/e-commerce/static/product/529',\n",
       " 'https://webscraper.io/test-sites/e-commerce/static/product/530',\n",
       " 'https://webscraper.io/test-sites/e-commerce/static/product/531',\n",
       " 'https://webscraper.io/test-sites/e-commerce/static/product/532',\n",
       " 'https://webscraper.io/test-sites/e-commerce/static/product/533',\n",
       " 'https://webscraper.io/test-sites/e-commerce/static/product/528',\n",
       " 'https://webscraper.io/test-sites/e-commerce/static/product/529',\n",
       " 'https://webscraper.io/test-sites/e-commerce/static/product/530',\n",
       " 'https://webscraper.io/test-sites/e-commerce/static/product/531',\n",
       " 'https://webscraper.io/test-sites/e-commerce/static/product/532',\n",
       " 'https://webscraper.io/test-sites/e-commerce/static/product/533',\n",
       " 'https://webscraper.io/test-sites/e-commerce/static/product/534',\n",
       " 'https://webscraper.io/test-sites/e-commerce/static/product/535',\n",
       " 'https://webscraper.io/test-sites/e-commerce/static/product/536',\n",
       " 'https://webscraper.io/test-sites/e-commerce/static/product/537',\n",
       " 'https://webscraper.io/test-sites/e-commerce/static/product/538',\n",
       " 'https://webscraper.io/test-sites/e-commerce/static/product/539',\n",
       " 'https://webscraper.io/test-sites/e-commerce/static/product/540',\n",
       " 'https://webscraper.io/test-sites/e-commerce/static/product/541',\n",
       " 'https://webscraper.io/test-sites/e-commerce/static/product/542',\n",
       " 'https://webscraper.io/test-sites/e-commerce/static/product/543',\n",
       " 'https://webscraper.io/test-sites/e-commerce/static/product/544',\n",
       " 'https://webscraper.io/test-sites/e-commerce/static/product/545',\n",
       " 'https://webscraper.io/test-sites/e-commerce/static/product/546',\n",
       " 'https://webscraper.io/test-sites/e-commerce/static/product/547',\n",
       " 'https://webscraper.io/test-sites/e-commerce/static/product/548',\n",
       " 'https://webscraper.io/test-sites/e-commerce/static/product/549',\n",
       " 'https://webscraper.io/test-sites/e-commerce/static/product/550',\n",
       " 'https://webscraper.io/test-sites/e-commerce/static/product/551',\n",
       " 'https://webscraper.io/test-sites/e-commerce/static/product/552',\n",
       " 'https://webscraper.io/test-sites/e-commerce/static/product/553',\n",
       " 'https://webscraper.io/test-sites/e-commerce/static/product/554',\n",
       " 'https://webscraper.io/test-sites/e-commerce/static/product/555',\n",
       " 'https://webscraper.io/test-sites/e-commerce/static/product/556',\n",
       " 'https://webscraper.io/test-sites/e-commerce/static/product/557',\n",
       " 'https://webscraper.io/test-sites/e-commerce/static/product/624',\n",
       " 'https://webscraper.io/test-sites/e-commerce/static/product/625',\n",
       " 'https://webscraper.io/test-sites/e-commerce/static/product/626',\n",
       " 'https://webscraper.io/test-sites/e-commerce/static/product/627',\n",
       " 'https://webscraper.io/test-sites/e-commerce/static/product/628',\n",
       " 'https://webscraper.io/test-sites/e-commerce/static/product/629',\n",
       " 'https://webscraper.io/test-sites/e-commerce/static/product/630',\n",
       " 'https://webscraper.io/test-sites/e-commerce/static/product/631',\n",
       " 'https://webscraper.io/test-sites/e-commerce/static/product/632']"
      ]
     },
     "execution_count": 34,
     "metadata": {},
     "output_type": "execute_result"
    }
   ],
   "source": [
    "listOfLinks"
   ]
  },
  {
   "cell_type": "code",
   "execution_count": 35,
   "metadata": {},
   "outputs": [],
   "source": [
    "listOfLinks=[]\n",
    "condition=True\n",
    "while condition:\n",
    "    productInfoList = webD.find_elements_by_class_name('thumbnail')\n",
    "    for el in productInfoList:\n",
    "        ppp1 = el.find_elements_by_tag_name('h4')[-1] #change to el not ppp\n",
    "        ppp2 = ppp1.find_element_by_tag_name('a')\n",
    "        listOfLinks.append(ppp2.get_property('href'))\n",
    "    \n",
    "    try:\n",
    "        webD.find_elements_by_class_name('page-link').click()\n",
    "        #webD.find_element_by_xpath('/html/body/div[1]/div[3]/div/div[2]/ul/li[13]/a').click()\n",
    "        #not so exact\n",
    "    except:\n",
    "        condition=False"
   ]
  },
  {
   "cell_type": "code",
   "execution_count": 36,
   "metadata": {},
   "outputs": [
    {
     "data": {
      "text/plain": [
       "['https://webscraper.io/test-sites/e-commerce/static/product/516',\n",
       " 'https://webscraper.io/test-sites/e-commerce/static/product/517',\n",
       " 'https://webscraper.io/test-sites/e-commerce/static/product/518',\n",
       " 'https://webscraper.io/test-sites/e-commerce/static/product/519',\n",
       " 'https://webscraper.io/test-sites/e-commerce/static/product/520',\n",
       " 'https://webscraper.io/test-sites/e-commerce/static/product/521']"
      ]
     },
     "execution_count": 36,
     "metadata": {},
     "output_type": "execute_result"
    }
   ],
   "source": [
    "listOfLinks"
   ]
  },
  {
   "cell_type": "code",
   "execution_count": null,
   "metadata": {},
   "outputs": [],
   "source": []
  }
 ],
 "metadata": {
  "kernelspec": {
   "display_name": "Python 3",
   "language": "python",
   "name": "python3"
  },
  "language_info": {
   "codemirror_mode": {
    "name": "ipython",
    "version": 3
   },
   "file_extension": ".py",
   "mimetype": "text/x-python",
   "name": "python",
   "nbconvert_exporter": "python",
   "pygments_lexer": "ipython3",
   "version": "3.7.4"
  }
 },
 "nbformat": 4,
 "nbformat_minor": 4
}
