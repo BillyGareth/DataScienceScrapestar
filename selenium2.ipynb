{
 "cells": [
  {
   "cell_type": "code",
   "execution_count": 1,
   "metadata": {},
   "outputs": [],
   "source": [
    "import selenium\n",
    "from selenium import webdriver as wb\n",
    "webD = wb.Chrome('chromedriver.exe')\n",
    "webD.get('https://www.jumia.co.ke/')"
   ]
  },
  {
   "cell_type": "code",
   "execution_count": 2,
   "metadata": {},
   "outputs": [],
   "source": [
    "smarp = webD.find_element_by_xpath('//*[@id=\"jm\"]/main/div[1]/div[1]/div[1]/div/a[4]/span')"
   ]
  },
  {
   "cell_type": "code",
   "execution_count": 3,
   "metadata": {},
   "outputs": [],
   "source": [
    "smarp.click()"
   ]
  },
  {
   "cell_type": "code",
   "execution_count": 4,
   "metadata": {},
   "outputs": [],
   "source": [
    "smarpp = webD.find_element_by_xpath('//*[@id=\"ctlg\"]/div/div[2]/div/div/a[1]/p')"
   ]
  },
  {
   "cell_type": "code",
   "execution_count": 5,
   "metadata": {},
   "outputs": [
    {
     "data": {
      "text/plain": [
       "<selenium.webdriver.remote.webelement.WebElement (session=\"d2ff260d89387ab5f2245334e7e62dd9\", element=\"94171514-679f-4f3e-8914-75cb3c57268a\")>"
      ]
     },
     "execution_count": 5,
     "metadata": {},
     "output_type": "execute_result"
    }
   ],
   "source": [
    "smarpp"
   ]
  },
  {
   "cell_type": "code",
   "execution_count": 6,
   "metadata": {},
   "outputs": [],
   "source": [
    "from selenium.webdriver.common.keys import Keys"
   ]
  },
  {
   "cell_type": "code",
   "execution_count": 7,
   "metadata": {
    "scrolled": true
   },
   "outputs": [
    {
     "data": {
      "text/plain": [
       "[<selenium.webdriver.remote.webelement.WebElement (session=\"d2ff260d89387ab5f2245334e7e62dd9\", element=\"8ae60409-7eca-4200-98ce-5594e0dde2df\")>,\n",
       " <selenium.webdriver.remote.webelement.WebElement (session=\"d2ff260d89387ab5f2245334e7e62dd9\", element=\"da086c72-8369-46c6-bfae-b57b1b8788eb\")>,\n",
       " <selenium.webdriver.remote.webelement.WebElement (session=\"d2ff260d89387ab5f2245334e7e62dd9\", element=\"7834984d-be71-41ad-86b9-b4d7b7c9b462\")>,\n",
       " <selenium.webdriver.remote.webelement.WebElement (session=\"d2ff260d89387ab5f2245334e7e62dd9\", element=\"ed80a046-9e86-4955-b123-962eccd2796f\")>,\n",
       " <selenium.webdriver.remote.webelement.WebElement (session=\"d2ff260d89387ab5f2245334e7e62dd9\", element=\"85ef10c2-b0fc-4691-89ec-076775eda358\")>,\n",
       " <selenium.webdriver.remote.webelement.WebElement (session=\"d2ff260d89387ab5f2245334e7e62dd9\", element=\"2c52b572-6d88-4837-9438-5c7d65d56048\")>,\n",
       " <selenium.webdriver.remote.webelement.WebElement (session=\"d2ff260d89387ab5f2245334e7e62dd9\", element=\"c92f3ef1-188d-40e1-a21f-e810ae1a1854\")>,\n",
       " <selenium.webdriver.remote.webelement.WebElement (session=\"d2ff260d89387ab5f2245334e7e62dd9\", element=\"a31f11e7-16f1-4471-bf12-061aafb6f94e\")>,\n",
       " <selenium.webdriver.remote.webelement.WebElement (session=\"d2ff260d89387ab5f2245334e7e62dd9\", element=\"fe5ff017-4857-45a7-80bf-9d51c1196ce3\")>,\n",
       " <selenium.webdriver.remote.webelement.WebElement (session=\"d2ff260d89387ab5f2245334e7e62dd9\", element=\"0abaf3fe-2ad1-46a0-963b-eaaf7cb0933f\")>,\n",
       " <selenium.webdriver.remote.webelement.WebElement (session=\"d2ff260d89387ab5f2245334e7e62dd9\", element=\"f19fdfa7-3df4-4b6a-9052-c76e77208dd7\")>,\n",
       " <selenium.webdriver.remote.webelement.WebElement (session=\"d2ff260d89387ab5f2245334e7e62dd9\", element=\"ef72e4b8-c6bd-4bad-921c-905d37678e8e\")>,\n",
       " <selenium.webdriver.remote.webelement.WebElement (session=\"d2ff260d89387ab5f2245334e7e62dd9\", element=\"38cce01d-6e7e-40d8-80ad-aa9256e3b6a6\")>,\n",
       " <selenium.webdriver.remote.webelement.WebElement (session=\"d2ff260d89387ab5f2245334e7e62dd9\", element=\"d9e4aeba-a23b-446a-bea4-655a2817893b\")>,\n",
       " <selenium.webdriver.remote.webelement.WebElement (session=\"d2ff260d89387ab5f2245334e7e62dd9\", element=\"8116dd0b-604e-414d-8233-480f06716fcf\")>,\n",
       " <selenium.webdriver.remote.webelement.WebElement (session=\"d2ff260d89387ab5f2245334e7e62dd9\", element=\"948c6fe0-8b92-48aa-b509-c250198b6655\")>,\n",
       " <selenium.webdriver.remote.webelement.WebElement (session=\"d2ff260d89387ab5f2245334e7e62dd9\", element=\"2ec3d745-9d98-4f37-a041-63e2fcaf9b1c\")>,\n",
       " <selenium.webdriver.remote.webelement.WebElement (session=\"d2ff260d89387ab5f2245334e7e62dd9\", element=\"a73b2610-2846-40a6-8960-e47efd7923d9\")>,\n",
       " <selenium.webdriver.remote.webelement.WebElement (session=\"d2ff260d89387ab5f2245334e7e62dd9\", element=\"fead8339-de4a-4e53-80d8-f8b7eedc85bc\")>,\n",
       " <selenium.webdriver.remote.webelement.WebElement (session=\"d2ff260d89387ab5f2245334e7e62dd9\", element=\"9dce59be-c30b-4179-b6d7-c40cf7472543\")>,\n",
       " <selenium.webdriver.remote.webelement.WebElement (session=\"d2ff260d89387ab5f2245334e7e62dd9\", element=\"fae71ec9-e2f0-4f9f-bc67-0d0bc217195c\")>,\n",
       " <selenium.webdriver.remote.webelement.WebElement (session=\"d2ff260d89387ab5f2245334e7e62dd9\", element=\"b967c490-ddb5-4bbb-9f01-df2cf056d952\")>,\n",
       " <selenium.webdriver.remote.webelement.WebElement (session=\"d2ff260d89387ab5f2245334e7e62dd9\", element=\"1732a60a-f1a5-4cbb-a0d9-17a61c65ff3e\")>,\n",
       " <selenium.webdriver.remote.webelement.WebElement (session=\"d2ff260d89387ab5f2245334e7e62dd9\", element=\"84c684a8-0bea-4dbb-ab1b-09dc4478d57e\")>,\n",
       " <selenium.webdriver.remote.webelement.WebElement (session=\"d2ff260d89387ab5f2245334e7e62dd9\", element=\"ac427058-f879-437a-94cc-4a9f6ccd5af1\")>,\n",
       " <selenium.webdriver.remote.webelement.WebElement (session=\"d2ff260d89387ab5f2245334e7e62dd9\", element=\"bb8cc6f3-a686-4f55-a290-b2040a19fc35\")>,\n",
       " <selenium.webdriver.remote.webelement.WebElement (session=\"d2ff260d89387ab5f2245334e7e62dd9\", element=\"b43cc6fd-3d89-4854-910a-17c2c19de834\")>,\n",
       " <selenium.webdriver.remote.webelement.WebElement (session=\"d2ff260d89387ab5f2245334e7e62dd9\", element=\"d03af01f-bd0a-4dbe-befd-7b4946fdbff3\")>,\n",
       " <selenium.webdriver.remote.webelement.WebElement (session=\"d2ff260d89387ab5f2245334e7e62dd9\", element=\"0bf865f6-71a5-45ec-9571-116d8d27adf6\")>,\n",
       " <selenium.webdriver.remote.webelement.WebElement (session=\"d2ff260d89387ab5f2245334e7e62dd9\", element=\"c9163186-a139-4851-ae3a-87cc1422e207\")>,\n",
       " <selenium.webdriver.remote.webelement.WebElement (session=\"d2ff260d89387ab5f2245334e7e62dd9\", element=\"7e6a55e1-d3c4-447c-a047-b180f72586c3\")>,\n",
       " <selenium.webdriver.remote.webelement.WebElement (session=\"d2ff260d89387ab5f2245334e7e62dd9\", element=\"165af1f4-e341-46b7-8f88-15b2c68752e0\")>,\n",
       " <selenium.webdriver.remote.webelement.WebElement (session=\"d2ff260d89387ab5f2245334e7e62dd9\", element=\"4bdfca89-f259-43a0-acd5-fa9b1fb1ff55\")>,\n",
       " <selenium.webdriver.remote.webelement.WebElement (session=\"d2ff260d89387ab5f2245334e7e62dd9\", element=\"f31f8554-6401-4baa-99f9-be2424ef78a6\")>,\n",
       " <selenium.webdriver.remote.webelement.WebElement (session=\"d2ff260d89387ab5f2245334e7e62dd9\", element=\"20499282-d5ed-492d-ac59-e86dbcdde2e0\")>,\n",
       " <selenium.webdriver.remote.webelement.WebElement (session=\"d2ff260d89387ab5f2245334e7e62dd9\", element=\"aed6a851-75e8-4ec4-91fa-cd065fb5a9a9\")>,\n",
       " <selenium.webdriver.remote.webelement.WebElement (session=\"d2ff260d89387ab5f2245334e7e62dd9\", element=\"508c3a93-1ff4-4a42-b0e4-4885ee30c9ce\")>,\n",
       " <selenium.webdriver.remote.webelement.WebElement (session=\"d2ff260d89387ab5f2245334e7e62dd9\", element=\"35083d55-69ea-40dd-a3a8-f96b7e4bee3c\")>,\n",
       " <selenium.webdriver.remote.webelement.WebElement (session=\"d2ff260d89387ab5f2245334e7e62dd9\", element=\"6e44d130-fe46-4157-a681-33718673ac15\")>,\n",
       " <selenium.webdriver.remote.webelement.WebElement (session=\"d2ff260d89387ab5f2245334e7e62dd9\", element=\"8c001c69-0830-4df0-a842-484693849f40\")>,\n",
       " <selenium.webdriver.remote.webelement.WebElement (session=\"d2ff260d89387ab5f2245334e7e62dd9\", element=\"a83e251c-6dea-4310-8279-355339e45fb8\")>,\n",
       " <selenium.webdriver.remote.webelement.WebElement (session=\"d2ff260d89387ab5f2245334e7e62dd9\", element=\"b85c5098-6c98-481c-aae1-d9a9cb16f361\")>,\n",
       " <selenium.webdriver.remote.webelement.WebElement (session=\"d2ff260d89387ab5f2245334e7e62dd9\", element=\"25f0aa15-c25a-4a63-9148-c6b2781c7fdf\")>,\n",
       " <selenium.webdriver.remote.webelement.WebElement (session=\"d2ff260d89387ab5f2245334e7e62dd9\", element=\"2ec0b54c-2b8b-450d-8ce1-5cd8302096ea\")>,\n",
       " <selenium.webdriver.remote.webelement.WebElement (session=\"d2ff260d89387ab5f2245334e7e62dd9\", element=\"c6263794-43e2-4026-8548-f64e52ee4ce5\")>,\n",
       " <selenium.webdriver.remote.webelement.WebElement (session=\"d2ff260d89387ab5f2245334e7e62dd9\", element=\"9e1b74f8-5d16-40f6-b9f8-feea16b71038\")>,\n",
       " <selenium.webdriver.remote.webelement.WebElement (session=\"d2ff260d89387ab5f2245334e7e62dd9\", element=\"e219c334-0476-4afb-86b7-e5fcd5136c53\")>,\n",
       " <selenium.webdriver.remote.webelement.WebElement (session=\"d2ff260d89387ab5f2245334e7e62dd9\", element=\"c507c3f8-6f7c-4373-b2cf-35f7f8e73534\")>]"
      ]
     },
     "execution_count": 7,
     "metadata": {},
     "output_type": "execute_result"
    }
   ],
   "source": [
    "webD.find_elements_by_class_name('core')"
   ]
  },
  {
   "cell_type": "code",
   "execution_count": 8,
   "metadata": {},
   "outputs": [],
   "source": [
    "pageItem = webD.find_elements_by_class_name('core')"
   ]
  },
  {
   "cell_type": "code",
   "execution_count": 9,
   "metadata": {},
   "outputs": [
    {
     "data": {
      "text/plain": [
       "48"
      ]
     },
     "execution_count": 9,
     "metadata": {},
     "output_type": "execute_result"
    }
   ],
   "source": [
    "len(pageItem)"
   ]
  },
  {
   "cell_type": "code",
   "execution_count": 10,
   "metadata": {},
   "outputs": [
    {
     "data": {
      "text/plain": [
       "\"Realme C3, 6.5'', 3GB + 64GB (Dual SIM) - 5000mah - Blue||KSh 13,999||KSh 15,999||12%||4.5 out of 5||(2)\""
      ]
     },
     "execution_count": 10,
     "metadata": {},
     "output_type": "execute_result"
    }
   ],
   "source": [
    "pageItem[0].text.replace(\"\\n\",\"||\")"
   ]
  },
  {
   "cell_type": "code",
   "execution_count": 11,
   "metadata": {
    "scrolled": true
   },
   "outputs": [
    {
     "name": "stdout",
     "output_type": "stream",
     "text": [
      "Realme C3, 6.5'', 3GB + 64GB (Dual SIM) - 5000mah - Blue||KSh 13,999||KSh 15,999||12%||4.5 out of 5||(2)\n",
      "Official Store||XIAOMI Redmi Note 8, 6.3\", FHD, 4 GB + 128 GB (Dual SIM) - White||KSh 19,999||KSh 21,999||9%||5 out of 5||(8)\n",
      "Official Store||XIAOMI Redmi Note 9S - 6.67\" - 4GB RAM 64GB - 48MP - 4G LTE - Dual SIM - Grey||KSh 20,999||KSh 22,999||8%||4.4 out of 5||(7)\n",
      "Realme C3, 6.5'', 3GB + 64GB (Dual SIM) - 5000mah - Red||KSh 13,999||KSh 15,999||12%\n",
      "Official Store||XIAOMI Xaiomi Mi Band 5 Smart Band AMOLED Screen - Black||KSh 4,499||KSh 6,299||28%\n",
      "Official Store||Infinix NOTE 7 Lite, 6.6\", 4GB + 64GB (Dual SIM), 4G, 5000mAh, Violet + FREE Pink Bag||KSh 15,399||KSh 19,000||18%\n",
      "Official Store||Ulefone Note 7 - 6.1\"- 1GB+16GB - 8MP+2MP+2MP - DUAL SIM - Green||KSh 6,299||KSh 6,499||3%||4.2 out of 5||(208)\n",
      "Official Store||XIAOMI Xiaomi Redmi Note 9 6.53\" FHD+ 48MP 4GB+128GB 4G LTE Smartphone - White||KSh 19,999||KSh 20,890||4%||5 out of 5||(1)\n",
      "Official Store||Infinix NOTE 7 Lite, 6.6\", 4GB + 64GB (Dual SIM), 4G, Violet + FREE Grey Bag||KSh 15,399||KSh 19,999||23%\n",
      "Official Store||Oukitel C16 Pro 5.71 Inch Black (Dual SIM) 3 + 32G MTK6761 2.0GHZ Quad-core||KSh 7,899||KSh 11,599||31%||4.2 out of 5||(89)\n",
      "Official Store||Ulefone Note 8P, 5.5\", 16GB + 2GB RAM (Dual SIM), 2700mAh, Amber Sunrise||KSh 6,499||KSh 7,499||13%||4.1 out of 5||(8)\n",
      "Official Store||Ulefone S11, 6.1\", 1GB RAM + 16GB (Dual SIM), 3500mAh, Black||KSh 6,299||KSh 7,199||12%||4.1 out of 5||(50)\n",
      "Official Store||Ulefone S1, 5.5\", 16 GB + 1 GB, (Dual SIM) 3000mAh - Black||KSh 5,499||KSh 10,000||45%||4 out of 5||(1)\n",
      "Official Store||Infinix Hot 8 Lite, 6.6\", 2 GB + 32 GB (Dual SIM), 3G - Cosmic Purple||KSh 10,799||KSh 12,999||16%||4.6 out of 5||(10)\n",
      "Toshiba 32GB Micro SD Memory Card 100MB/S Class10||KSh 529||KSh 880||39%\n",
      "Huawei Watch GT 2e - Black||KSh 26,999||KSh 29,999||10%\n",
      "Official Store||Infinix Hot 8 Lite, 6.6\", 2GB + 32GB (Dual SIM) 3G, Black||KSh 10,799||KSh 12,999||16%||4.6 out of 5||(20)\n",
      "Iconix C-703 Kids Tablet 7.0\" Inch - 512MB RAM - 8GB ROM - WiFi - 3000 MAh Battery||KSh 5,999||KSh 7,999||25%\n",
      "Official Store||Huawei Y5 2019, 5.7'', 32GB + 2GB, Dual SIM - Modern Black||KSh 10,199||KSh 11,499||11%||4.4 out of 5||(155)\n",
      "Iconix C703 - Kids Tablet - Dual Core - 7\" - 8GB ROM - 512MB RAM - 0.3MP Camera - Wi-Fi – Pink||KSh 5,999||KSh 7,999||25%||2.8 out of 5||(9)\n",
      "Official Store||Samsung Galaxy A11, 6.4\", 32GB + 2GB RAM (Dual SIM), 4000mAh, Blue||KSh 14,499||KSh 25,000||42%||4.5 out of 5||(4)\n",
      "IDCHIP 32GB Memory Card, Micro SD/TF Card - Red/Black||KSh 589||KSh 999||41%||offers from||4.4 out of 5||(70)\n",
      "Official Store||Huawei Y7 Prime (2019), 6.26\", 64GB + 3GB (Dual), Aurora Blue||KSh 13,999||KSh 19,999||30%||4.7 out of 5||(74)\n",
      "Official Store||Huawei Y9s 6.59\", 128 GB + 6 GB, Dual SIM, 4000mAh - Blue||KSh 25,399||KSh 34,999||27%||4.6 out of 5||(35)\n",
      "Spadger MobilePower 10000mAh 2 USB Li-Battery K630 Pink||KSh 949||KSh 1,500||36%||4.4 out of 5||(85)\n",
      "Generic Mini Bluetooth In-ear Business Headset||KSh 159||KSh 300||47%||4 out of 5||(6)\n",
      "IDCHIP 128GB Memory Card, Micro SD/TF Card - Red/Black||KSh 1,389||KSh 2,699||48%||4.4 out of 5||(30)\n",
      "Generic Mini Bluetooth In-ear Business Headset||KSh 159||KSh 300||47%||3.8 out of 5||(5)\n",
      "Shipped from abroad||Generic Smart Band Fitness Tracker Wristband Smart Watch||KSh 799||KSh 1,567||49%||3 out of 5||(2)\n",
      "Generic New 116plus color screen smart bracelet fitness||KSh 790||KSh 1,990||60%||3.5 out of 5||(25)\n",
      "Shipped from abroad||Generic Earpiece Earphones Sport Earphone Bluetooth Headset-black||KSh 490||KSh 887||44%||4 out of 5||(3)\n",
      "Shipped from abroad||Generic Smart Bluetooth Wristband Sport Fitness Bracelet||KSh 1,299||KSh 2,299||43%||3.7 out of 5||(3)\n",
      "Shipped from abroad||Generic Smart Band Fitness Tracker Wristband Smart Watch||KSh 899||KSh 1,499||40%\n",
      "Generic Music Pioneer G5S Blutooth 5.0 True Wireless Stereo Headphones||KSh 1,300||KSh 2,399||45%||4.3 out of 5||(3)\n",
      "Shipped from abroad||Generic Men's Smart Watches Fitness Tracker Color Screen||KSh 799||KSh 1,499||46%||3 out of 5||(2)\n",
      "Generic F9-10 Blutooth 5.0 True Wireless Stereo Headphones||KSh 1,300||KSh 2,451||46%||4.5 out of 5||(2)\n",
      "Generic V8 Blutooth 5.0 True Wireless Stereo Headphones||KSh 1,300||KSh 2,157||39%||4.6 out of 5||(7)\n",
      "Generic Smart Watch Bracelet Fitness Heart Rate Monitor||KSh 1,190||KSh 1,583||24%||5 out of 5||(1)\n",
      "Generic Music Pioneer E6S Blutooth 5.0 True Wireless Stereo Headphones||KSh 1,099||KSh 2,100||47%||4 out of 5||(1)\n",
      "Generic Black-Portable 5000mAh Quick Charging Power Banks||KSh 600||KSh 900||33%\n",
      "Generic Colourful Drops Popsocket for Tablet Mobile Phones||KSh 489||KSh 950||48%\n",
      "Huawei Y7 (2019) Shockproof Luminous Back Case||KSh 1,000||4.5 out of 5||(10)\n",
      "Samsung Samsung Galaxy S3,S4,S5, NOTE4, S6,S7 J7, Charger - White.||KSh 849||KSh 1,599||46%||2 out of 5||(1)\n",
      "Generic Health Bracelet||KSh 749||KSh 850||11%\n",
      "Nillkin Shockproof Cover For Xiaomi Redmi Note 9S||KSh 1,480||KSh 1,799||17%\n",
      "Oraimo Android Charger For All smart Phones - Black||KSh 649||KSh 900||27%\n",
      "Generic MicroSD Memory Card 8 GB||KSh 680||KSh 800||15%\n",
      "Awei Bluetooth Earphones Extra Bass 15h Music Playtime||KSh 2,999||KSh 4,000||25%\n"
     ]
    }
   ],
   "source": [
    "for item in pageItem:\n",
    "    item_data = item.text.replace(\"\\n\",\"||\")\n",
    "    print(item_data)"
   ]
  },
  {
   "cell_type": "code",
   "execution_count": 12,
   "metadata": {
    "scrolled": true
   },
   "outputs": [
    {
     "name": "stdout",
     "output_type": "stream",
     "text": [
      "Realme C3, 6.5'', 3GB + 64GB (Dual SIM) - 5000mah - Blue||KSh 13,999||KSh 15,999||12%||4.5 out of 5||(2)Official Store||XIAOMI Redmi Note 8, 6.3\", FHD, 4 GB + 128 GB (Dual SIM) - White||KSh 19,999||KSh 21,999||9%||5 out of 5||(8)Official Store||XIAOMI Redmi Note 9S - 6.67\" - 4GB RAM 64GB - 48MP - 4G LTE - Dual SIM - Grey||KSh 20,999||KSh 22,999||8%||4.4 out of 5||(7)Realme C3, 6.5'', 3GB + 64GB (Dual SIM) - 5000mah - Red||KSh 13,999||KSh 15,999||12%Official Store||XIAOMI Xaiomi Mi Band 5 Smart Band AMOLED Screen - Black||KSh 4,499||KSh 6,299||28%Official Store||Infinix NOTE 7 Lite, 6.6\", 4GB + 64GB (Dual SIM), 4G, 5000mAh, Violet + FREE Pink Bag||KSh 15,399||KSh 19,000||18%Official Store||Ulefone Note 7 - 6.1\"- 1GB+16GB - 8MP+2MP+2MP - DUAL SIM - Green||KSh 6,299||KSh 6,499||3%||4.2 out of 5||(208)Official Store||XIAOMI Xiaomi Redmi Note 9 6.53\" FHD+ 48MP 4GB+128GB 4G LTE Smartphone - White||KSh 19,999||KSh 20,890||4%||5 out of 5||(1)Official Store||Infinix NOTE 7 Lite, 6.6\", 4GB + 64GB (Dual SIM), 4G, Violet + FREE Grey Bag||KSh 15,399||KSh 19,999||23%Official Store||Oukitel C16 Pro 5.71 Inch Black (Dual SIM) 3 + 32G MTK6761 2.0GHZ Quad-core||KSh 7,899||KSh 11,599||31%||4.2 out of 5||(89)Official Store||Ulefone Note 8P, 5.5\", 16GB + 2GB RAM (Dual SIM), 2700mAh, Amber Sunrise||KSh 6,499||KSh 7,499||13%||4.1 out of 5||(8)Official Store||Ulefone S11, 6.1\", 1GB RAM + 16GB (Dual SIM), 3500mAh, Black||KSh 6,299||KSh 7,199||12%||4.1 out of 5||(50)Official Store||Ulefone S1, 5.5\", 16 GB + 1 GB, (Dual SIM) 3000mAh - Black||KSh 5,499||KSh 10,000||45%||4 out of 5||(1)Official Store||Infinix Hot 8 Lite, 6.6\", 2 GB + 32 GB (Dual SIM), 3G - Cosmic Purple||KSh 10,799||KSh 12,999||16%||4.6 out of 5||(10)Toshiba 32GB Micro SD Memory Card 100MB/S Class10||KSh 529||KSh 880||39%Huawei Watch GT 2e - Black||KSh 26,999||KSh 29,999||10%Official Store||Infinix Hot 8 Lite, 6.6\", 2GB + 32GB (Dual SIM) 3G, Black||KSh 10,799||KSh 12,999||16%||4.6 out of 5||(20)Iconix C-703 Kids Tablet 7.0\" Inch - 512MB RAM - 8GB ROM - WiFi - 3000 MAh Battery||KSh 5,999||KSh 7,999||25%Official Store||Huawei Y5 2019, 5.7'', 32GB + 2GB, Dual SIM - Modern Black||KSh 10,199||KSh 11,499||11%||4.4 out of 5||(155)Iconix C703 - Kids Tablet - Dual Core - 7\" - 8GB ROM - 512MB RAM - 0.3MP Camera - Wi-Fi – Pink||KSh 5,999||KSh 7,999||25%||2.8 out of 5||(9)Official Store||Samsung Galaxy A11, 6.4\", 32GB + 2GB RAM (Dual SIM), 4000mAh, Blue||KSh 14,499||KSh 25,000||42%||4.5 out of 5||(4)IDCHIP 32GB Memory Card, Micro SD/TF Card - Red/Black||KSh 589||KSh 999||41%||offers from||4.4 out of 5||(70)Official Store||Huawei Y7 Prime (2019), 6.26\", 64GB + 3GB (Dual), Aurora Blue||KSh 13,999||KSh 19,999||30%||4.7 out of 5||(74)Official Store||Huawei Y9s 6.59\", 128 GB + 6 GB, Dual SIM, 4000mAh - Blue||KSh 25,399||KSh 34,999||27%||4.6 out of 5||(35)Spadger MobilePower 10000mAh 2 USB Li-Battery K630 Pink||KSh 949||KSh 1,500||36%||4.4 out of 5||(85)Generic Mini Bluetooth In-ear Business Headset||KSh 159||KSh 300||47%||4 out of 5||(6)IDCHIP 128GB Memory Card, Micro SD/TF Card - Red/Black||KSh 1,389||KSh 2,699||48%||4.4 out of 5||(30)Generic Mini Bluetooth In-ear Business Headset||KSh 159||KSh 300||47%||3.8 out of 5||(5)Shipped from abroad||Generic Smart Band Fitness Tracker Wristband Smart Watch||KSh 799||KSh 1,567||49%||3 out of 5||(2)Generic New 116plus color screen smart bracelet fitness||KSh 790||KSh 1,990||60%||3.5 out of 5||(25)Shipped from abroad||Generic Earpiece Earphones Sport Earphone Bluetooth Headset-black||KSh 490||KSh 887||44%||4 out of 5||(3)Shipped from abroad||Generic Smart Bluetooth Wristband Sport Fitness Bracelet||KSh 1,299||KSh 2,299||43%||3.7 out of 5||(3)Shipped from abroad||Generic Smart Band Fitness Tracker Wristband Smart Watch||KSh 899||KSh 1,499||40%Generic Music Pioneer G5S Blutooth 5.0 True Wireless Stereo Headphones||KSh 1,300||KSh 2,399||45%||4.3 out of 5||(3)Shipped from abroad||Generic Men's Smart Watches Fitness Tracker Color Screen||KSh 799||KSh 1,499||46%||3 out of 5||(2)Generic F9-10 Blutooth 5.0 True Wireless Stereo Headphones||KSh 1,300||KSh 2,451||46%||4.5 out of 5||(2)Generic V8 Blutooth 5.0 True Wireless Stereo Headphones||KSh 1,300||KSh 2,157||39%||4.6 out of 5||(7)Generic Smart Watch Bracelet Fitness Heart Rate Monitor||KSh 1,190||KSh 1,583||24%||5 out of 5||(1)Generic Music Pioneer E6S Blutooth 5.0 True Wireless Stereo Headphones||KSh 1,099||KSh 2,100||47%||4 out of 5||(1)Generic Black-Portable 5000mAh Quick Charging Power Banks||KSh 600||KSh 900||33%Generic Colourful Drops Popsocket for Tablet Mobile Phones||KSh 489||KSh 950||48%Huawei Y7 (2019) Shockproof Luminous Back Case||KSh 1,000||4.5 out of 5||(10)Samsung Samsung Galaxy S3,S4,S5, NOTE4, S6,S7 J7, Charger - White.||KSh 849||KSh 1,599||46%||2 out of 5||(1)Generic Health Bracelet||KSh 749||KSh 850||11%Nillkin Shockproof Cover For Xiaomi Redmi Note 9S||KSh 1,480||KSh 1,799||17%Oraimo Android Charger For All smart Phones - Black||KSh 649||KSh 900||27%Generic MicroSD Memory Card 8 GB||KSh 680||KSh 800||15%Awei Bluetooth Earphones Extra Bass 15h Music Playtime||KSh 2,999||KSh 4,000||25%"
     ]
    }
   ],
   "source": [
    "for i in pageItem:\n",
    "    output = print(i.text.replace(\"\\n\",\"||\"),end = '')"
   ]
  },
  {
   "cell_type": "code",
   "execution_count": 13,
   "metadata": {
    "scrolled": true
   },
   "outputs": [
    {
     "name": "stdout",
     "output_type": "stream",
     "text": [
      "Official Store\n",
      "XIAOMI Redmi 8 6.22\" HD+ 4GB + 64GB 12MP 4G LTE Smartphone - Blue\n",
      "KSh 13,999\n",
      "KSh 14,999\n",
      "6%\n",
      "4.8 out of 5\n",
      "(72)Official Store\n",
      "Samsung Galaxy M11 - 6.4'' - 3GB+32GB - Dual SIM - 4G - Black\n",
      "KSh 15,999\n",
      "KSh 19,999\n",
      "20%\n",
      "4.6 out of 5\n",
      "(17)Official Store\n",
      "Oppo A12, 6.22\", 32GB + 3GB RAM (Dual SIM), 4230 MAh, Black\n",
      "KSh 13,999\n",
      "KSh 14,999\n",
      "6%\n",
      "offers from\n",
      "4.3 out of 5\n",
      "(12)Official Store\n",
      "X Tigi V7 Pro, 2.8\", 8GB +1GB, 2MP Camera, (Dual SIM) - Black\n",
      "KSh 3,599\n",
      "KSh 5,999\n",
      "40%\n",
      "3.5 out of 5\n",
      "(4)Official Store\n",
      "XIAOMI Redmi 9 6.53\" 4GB+64GB (Dual SIM) 4G LTE - Grey\n",
      "KSh 14,999\n",
      "KSh 21,499\n",
      "30%\n",
      "5 out of 5\n",
      "(2)Official Store\n",
      "Samsung Galaxy M11 - 6.4'' - 3GB+32GB - Dual SIM - 4G - Blue\n",
      "KSh 15,999\n",
      "KSh 19,999\n",
      "20%\n",
      "4.5 out of 5\n",
      "(8)Generic Wireless Twins Earphones,Get Free Earphone\n",
      "KSh 999\n",
      "KSh 1,199\n",
      "16%Official Store\n",
      "XIAOMI Redmi Note 8, 6.3\", FHD, 4 GB + 128 GB (Dual SIM) - White\n",
      "KSh 19,999\n",
      "KSh 21,999\n",
      "9%\n",
      "5 out of 5\n",
      "(6)Gionee M6 Mini, 5.45\", 1 GB + 16 GB (Dual SIM) - Blue\n",
      "KSh 4,999\n",
      "KSh 6,999\n",
      "28%\n",
      "4.1 out of 5\n",
      "(149)Official Store\n",
      "Oppo A12, 6.22\", 32GB + 3GB RAM (Dual SIM), 4230 MAh, Blue\n",
      "KSh 13,999\n",
      "KSh 14,999\n",
      "6%\n",
      "4.7 out of 5\n",
      "(7)Official Store\n",
      "X Tigi V7 Pro, 2.8\", 8GB +1GB, 2MP Camera, (Dual SIM) - Gold\n",
      "KSh 3,599\n",
      "KSh 5,999\n",
      "40%\n",
      "5 out of 5\n",
      "(1)Official Store\n",
      "XIAOMI Redmi Note 9S - 6.67\" - 4GB RAM 64GB - 48MP - 4G LTE - Dual SIM - Grey\n",
      "KSh 20,999\n",
      "KSh 22,999\n",
      "8%\n",
      "4.6 out of 5\n",
      "(5)Official Store\n",
      "XIAOMI Redmi Note 8 Pro - 6.53\" - (6GB, 64GB) - Dual SIM - Forest Green\n",
      "KSh 19,999\n",
      "KSh 27,999\n",
      "28%\n",
      "5 out of 5\n",
      "(8)Official Store\n",
      "Samsung Galaxy A21s, 6.5\", 64GB + 4GB RAM (Dual SIM), 4000 MAh, Blue\n",
      "KSh 20,999\n",
      "KSh 30,000\n",
      "30%\n",
      "4.3 out of 5\n",
      "(3)Official Store\n",
      "Oppo A31, 6.5\", 4GB RAM + 64GB (Dual SIM), 4230mAh - Mystery Black\n",
      "KSh 17,999\n",
      "4.9 out of 5\n",
      "(7)Official Store\n",
      "Samsung Galaxy M11 - 6.4'' - 3GB+32GB - Dual SIM - 4G - Violet\n",
      "KSh 15,999\n",
      "KSh 19,999\n",
      "20%\n",
      "5 out of 5\n",
      "(1)Generic New Design Earphones - White\n",
      "KSh 199\n",
      "KSh 229\n",
      "13%\n",
      "5 out of 5\n",
      "(1)XIAOMI Xaiomi Mi Band 5 Smart Band AMOLED Screen - Black\n",
      "KSh 4,499\n",
      "KSh 6,299\n",
      "28%Generic Power Bank 10000mAh 3 USB Ports,Get Free USB Light\n",
      "KSh 899\n",
      "KSh 999\n",
      "10%\n",
      "1 out of 5\n",
      "(1)Elegant 3 Pin Fast Phone Charger 3 USB With Android Cable\n",
      "KSh 391\n",
      "offers from\n",
      "4 out of 5\n",
      "(5)Official Store\n",
      "Oppo A31, 6.5\", 4GB RAM + 64GB (Dual SIM), 4230mAh - Lake Green\n",
      "KSh 17,999\n",
      "5 out of 5\n",
      "(1)XIAOMI Redmi 9 6.53 Inch 3GB 32GB 13.0MP Camera 4G LTE Smartphone - Green\n",
      "KSh 13,999\n",
      "KSh 18,999\n",
      "26%\n",
      "5 out of 5\n",
      "(1)Official Store\n",
      "Ulefone Note 7, 6.1\", 1GB + 16GB (Dual SIM), Black\n",
      "KSh 6,299\n",
      "KSh 6,499\n",
      "3%\n",
      "4.2 out of 5\n",
      "(737)Official Store\n",
      "Ulefone Note 7 Pro, 6.1\" HD, 3GB +32GB (Dual SIM) - Black\n",
      "KSh 8,299\n",
      "KSh 8,499\n",
      "2%\n",
      "4.4 out of 5\n",
      "(510)Official Store\n",
      "Samsung Galaxy A11, 6.4\", 32GB + 2GB RAM (Dual SIM), 4000mAh, Blue\n",
      "KSh 14,499\n",
      "KSh 25,000\n",
      "42%\n",
      "4.7 out of 5\n",
      "(3)Official Store\n",
      "Oppo A31, 6.5\", 4GB RAM + 128GB (Dual SIM), 4230mAh, Lake Green\n",
      "KSh 20,999XIAOMI Xiaomi Redmi Note 9 6.53\" FHD+ 48MP 4GB+128GB 4G LTE Smartphone - White\n",
      "KSh 18,999\n",
      "KSh 20,890\n",
      "9%Official Store\n",
      "Nokia 2.3, 6.2\", Android One, 32GB + 2GB (Dual SIM) - Charcoal\n",
      "KSh 10,699\n",
      "KSh 16,000\n",
      "33%\n",
      "4.3 out of 5\n",
      "(24)Official Store\n",
      "UMIDIGI A7 Pro - 6.3\" - 4GB + 64GB - Android 10 Quad Camera - Dual SIM - Ocean Blue\n",
      "KSh 11,599\n",
      "KSh 17,599\n",
      "34%\n",
      "4.3 out of 5\n",
      "(70)Official Store\n",
      "Samsung Galaxy A21s, 6.5\", 64GB + 4GB RAM (Dual SIM), 4000 MAh, Black\n",
      "KSh 20,999\n",
      "KSh 30,000\n",
      "30%\n",
      "5 out of 5\n",
      "(5)Generic Bluetooth Headset Wireless Headphones Headset - White\n",
      "KSh 325\n",
      "KSh 599\n",
      "45%\n",
      "offers from\n",
      "3.8 out of 5\n",
      "(121)Annov 3 Pin Charger Dual USB +Android Cable+Selfie-Stick\n",
      "KSh 399\n",
      "KSh 599\n",
      "33%\n",
      "4 out of 5\n",
      "(2)Official Store\n",
      "Oppo A31, 6.5\", 4GB RAM + 128GB (Dual SIM), 4230mAh, Mystery Black\n",
      "KSh 20,999Official Store\n",
      "Oppo A1k, 6.1\", 32 GB + 2 GB, 4000 MAh (Dual SIM) - Black\n",
      "KSh 10,999\n",
      "KSh 12,999\n",
      "15%\n",
      "4.5 out of 5\n",
      "(28)Official Store\n",
      "Samsung Galaxy A11, 6.4\", 32GB + 2GB RAM (Dual SIM), 4000mAh, Black\n",
      "KSh 14,499\n",
      "KSh 25,000\n",
      "42%\n",
      "4.1 out of 5\n",
      "(7)Excellent Anti-radiation Earphones With Super Bass\n",
      "KSh 199\n",
      "KSh 299\n",
      "33%\n",
      "offers from\n",
      "3.3 out of 5\n",
      "(28)Generic Wireless Karaoke Microphone Speaker Handheld\n",
      "KSh 1,699\n",
      "KSh 1,999\n",
      "15%Official Store\n",
      "Oppo A1K 6.1\", 32GB + 2GB RAM, 8MP+5MP Camera, (Dual SIM) - Red\n",
      "KSh 10,999\n",
      "KSh 12,999\n",
      "15%\n",
      "4.2 out of 5\n",
      "(19)Official Store\n",
      "Ulefone Power 6, 6.3\", 4GB + 64GB (Dual SIM), Midnight Blue\n",
      "KSh 11,499\n",
      "KSh 17,999\n",
      "36%\n",
      "3.9 out of 5\n",
      "(18)Official Store\n",
      "Ulefone S11, 6.1\", 1GB RAM + 16GB (Dual SIM), 3500mAh, Black\n",
      "KSh 6,299\n",
      "KSh 7,199\n",
      "12%\n",
      "4.1 out of 5\n",
      "(41)shuer Dynamic Super Bass Single Pin Wired Headphones1.5M\n",
      "KSh 499\n",
      "KSh 700\n",
      "28%Huawei Desktop Phone/GSM 6588\n",
      "KSh 7,500Generic Health Bracelet\n",
      "KSh 749\n",
      "KSh 850\n",
      "11%Generic Micro USB Charging Chord Braided Usb Data Line 2.1A Fast Charge USB Cable For Charging\n",
      "KSh 240\n",
      "KSh 500\n",
      "52%Generic L Type USB Type-C To 3.5mm AUX For Phones, Macbook\n",
      "KSh 699\n",
      "KSh 1,000\n",
      "30%Generic Wireless Earhook Bone Conduction Noise-Cancelling\n",
      "KSh 850\n",
      "KSh 1,500\n",
      "43%Shipped from abroad\n",
      "Generic OR True Wireless Bluetooth Earphones Twins Stereo In-Ear Earbuds With Charge Box Black\n",
      "KSh 1,999\n",
      "KSh 3,364\n",
      "40%Generic 3-Pin Charger - Black\n",
      "KSh 749\n",
      "KSh 999\n",
      "25%\n",
      "\n",
      "\n"
     ]
    }
   ],
   "source": [
    "with open('OfficialStore.txt','r') as f:\n",
    "    f_contents = f.read()\n",
    "    print(f_contents)"
   ]
  },
  {
   "cell_type": "code",
   "execution_count": 19,
   "metadata": {},
   "outputs": [
    {
     "name": "stdout",
     "output_type": "stream",
     "text": [
      "Realme C3, 6.5'', 3GB + 64GB (Dual SIM) - 5000mah - Blue||KSh 13,999||KSh 15,999||12%||4.5 out of 5||(2)\n",
      "Official Store||XIAOMI Redmi Note 8, 6.3\", FHD, 4 GB + 128 GB (Dual SIM) - White||KSh 19,999||KSh 21,999||9%||5 out of 5||(8)\n",
      "Official Store||XIAOMI Redmi Note 9S - 6.67\" - 4GB RAM 64GB - 48MP - 4G LTE - Dual SIM - Grey||KSh 20,999||KSh 22,999||8%||4.4 out of 5||(7)\n",
      "Realme C3, 6.5'', 3GB + 64GB (Dual SIM) - 5000mah - Red||KSh 13,999||KSh 15,999||12%\n",
      "Official Store||XIAOMI Xaiomi Mi Band 5 Smart Band AMOLED Screen - Black||KSh 4,499||KSh 6,299||28%\n",
      "Official Store||Infinix NOTE 7 Lite, 6.6\", 4GB + 64GB (Dual SIM), 4G, 5000mAh, Violet + FREE Pink Bag||KSh 15,399||KSh 19,000||18%\n",
      "Official Store||Ulefone Note 7 - 6.1\"- 1GB+16GB - 8MP+2MP+2MP - DUAL SIM - Green||KSh 6,299||KSh 6,499||3%||4.2 out of 5||(208)\n",
      "Official Store||XIAOMI Xiaomi Redmi Note 9 6.53\" FHD+ 48MP 4GB+128GB 4G LTE Smartphone - White||KSh 19,999||KSh 20,890||4%||5 out of 5||(1)\n",
      "Official Store||Infinix NOTE 7 Lite, 6.6\", 4GB + 64GB (Dual SIM), 4G, Violet + FREE Grey Bag||KSh 15,399||KSh 19,999||23%\n",
      "Official Store||Oukitel C16 Pro 5.71 Inch Black (Dual SIM) 3 + 32G MTK6761 2.0GHZ Quad-core||KSh 7,899||KSh 11,599||31%||4.2 out of 5||(89)\n",
      "Official Store||Ulefone Note 8P, 5.5\", 16GB + 2GB RAM (Dual SIM), 2700mAh, Amber Sunrise||KSh 6,499||KSh 7,499||13%||4.1 out of 5||(8)\n",
      "Official Store||Ulefone S11, 6.1\", 1GB RAM + 16GB (Dual SIM), 3500mAh, Black||KSh 6,299||KSh 7,199||12%||4.1 out of 5||(50)\n",
      "Official Store||Ulefone S1, 5.5\", 16 GB + 1 GB, (Dual SIM) 3000mAh - Black||KSh 5,499||KSh 10,000||45%||4 out of 5||(1)\n",
      "Official Store||Infinix Hot 8 Lite, 6.6\", 2 GB + 32 GB (Dual SIM), 3G - Cosmic Purple||KSh 10,799||KSh 12,999||16%||4.6 out of 5||(10)\n",
      "Toshiba 32GB Micro SD Memory Card 100MB/S Class10||KSh 529||KSh 880||39%\n",
      "Huawei Watch GT 2e - Black||KSh 26,999||KSh 29,999||10%\n",
      "Official Store||Infinix Hot 8 Lite, 6.6\", 2GB + 32GB (Dual SIM) 3G, Black||KSh 10,799||KSh 12,999||16%||4.6 out of 5||(20)\n",
      "Iconix C-703 Kids Tablet 7.0\" Inch - 512MB RAM - 8GB ROM - WiFi - 3000 MAh Battery||KSh 5,999||KSh 7,999||25%\n",
      "Official Store||Huawei Y5 2019, 5.7'', 32GB + 2GB, Dual SIM - Modern Black||KSh 10,199||KSh 11,499||11%||4.4 out of 5||(155)\n",
      "Iconix C703 - Kids Tablet - Dual Core - 7\" - 8GB ROM - 512MB RAM - 0.3MP Camera - Wi-Fi – Pink||KSh 5,999||KSh 7,999||25%||2.8 out of 5||(9)\n",
      "Official Store||Samsung Galaxy A11, 6.4\", 32GB + 2GB RAM (Dual SIM), 4000mAh, Blue||KSh 14,499||KSh 25,000||42%||4.5 out of 5||(4)\n",
      "IDCHIP 32GB Memory Card, Micro SD/TF Card - Red/Black||KSh 589||KSh 999||41%||offers from||4.4 out of 5||(70)\n",
      "Official Store||Huawei Y7 Prime (2019), 6.26\", 64GB + 3GB (Dual), Aurora Blue||KSh 13,999||KSh 19,999||30%||4.7 out of 5||(74)\n",
      "Official Store||Huawei Y9s 6.59\", 128 GB + 6 GB, Dual SIM, 4000mAh - Blue||KSh 25,399||KSh 34,999||27%||4.6 out of 5||(35)\n",
      "Spadger MobilePower 10000mAh 2 USB Li-Battery K630 Pink||KSh 949||KSh 1,500||36%||4.4 out of 5||(85)\n",
      "Generic Mini Bluetooth In-ear Business Headset||KSh 159||KSh 300||47%||4 out of 5||(6)\n",
      "IDCHIP 128GB Memory Card, Micro SD/TF Card - Red/Black||KSh 1,389||KSh 2,699||48%||4.4 out of 5||(30)\n",
      "Generic Mini Bluetooth In-ear Business Headset||KSh 159||KSh 300||47%||3.8 out of 5||(5)\n",
      "Shipped from abroad||Generic Smart Band Fitness Tracker Wristband Smart Watch||KSh 799||KSh 1,567||49%||3 out of 5||(2)\n",
      "Generic New 116plus color screen smart bracelet fitness||KSh 790||KSh 1,990||60%||3.5 out of 5||(25)\n",
      "Shipped from abroad||Generic Earpiece Earphones Sport Earphone Bluetooth Headset-black||KSh 490||KSh 887||44%||4 out of 5||(3)\n",
      "Shipped from abroad||Generic Smart Bluetooth Wristband Sport Fitness Bracelet||KSh 1,299||KSh 2,299||43%||3.7 out of 5||(3)\n",
      "Shipped from abroad||Generic Smart Band Fitness Tracker Wristband Smart Watch||KSh 899||KSh 1,499||40%\n",
      "Generic Music Pioneer G5S Blutooth 5.0 True Wireless Stereo Headphones||KSh 1,300||KSh 2,399||45%||4.3 out of 5||(3)\n",
      "Shipped from abroad||Generic Men's Smart Watches Fitness Tracker Color Screen||KSh 799||KSh 1,499||46%||3 out of 5||(2)\n",
      "Generic F9-10 Blutooth 5.0 True Wireless Stereo Headphones||KSh 1,300||KSh 2,451||46%||4.5 out of 5||(2)\n",
      "Generic V8 Blutooth 5.0 True Wireless Stereo Headphones||KSh 1,300||KSh 2,157||39%||4.6 out of 5||(7)\n",
      "Generic Smart Watch Bracelet Fitness Heart Rate Monitor||KSh 1,190||KSh 1,583||24%||5 out of 5||(1)\n",
      "Generic Music Pioneer E6S Blutooth 5.0 True Wireless Stereo Headphones||KSh 1,099||KSh 2,100||47%||4 out of 5||(1)\n",
      "Generic Black-Portable 5000mAh Quick Charging Power Banks||KSh 600||KSh 900||33%\n",
      "Generic Colourful Drops Popsocket for Tablet Mobile Phones||KSh 489||KSh 950||48%\n",
      "Huawei Y7 (2019) Shockproof Luminous Back Case||KSh 1,000||4.5 out of 5||(10)\n",
      "Samsung Samsung Galaxy S3,S4,S5, NOTE4, S6,S7 J7, Charger - White.||KSh 849||KSh 1,599||46%||2 out of 5||(1)\n",
      "Generic Health Bracelet||KSh 749||KSh 850||11%\n",
      "Nillkin Shockproof Cover For Xiaomi Redmi Note 9S||KSh 1,480||KSh 1,799||17%\n",
      "Oraimo Android Charger For All smart Phones - Black||KSh 649||KSh 900||27%\n",
      "Generic MicroSD Memory Card 8 GB||KSh 680||KSh 800||15%\n",
      "Awei Bluetooth Earphones Extra Bass 15h Music Playtime||KSh 2,999||KSh 4,000||25%\n"
     ]
    }
   ],
   "source": [
    "with open('officialfile.txt','w') as f:\n",
    "    for item in pageItem:\n",
    "        item_data = item.text.replace(\"\\n\",\"||\")\n",
    "        print(item_data)\n",
    "        f.write(item_data)"
   ]
  },
  {
   "cell_type": "code",
   "execution_count": 17,
   "metadata": {},
   "outputs": [
    {
     "name": "stderr",
     "output_type": "stream",
     "text": [
      "C:\\Users\\Billy Gareth\\Anaconda3\\lib\\site-packages\\ipykernel_launcher.py:2: ParserWarning: Falling back to the 'python' engine because the 'c' engine does not support regex separators (separators > 1 char and different from '\\s+' are interpreted as regex); you can avoid this warning by specifying engine='python'.\n",
      "  \n"
     ]
    },
    {
     "ename": "AttributeError",
     "evalue": "module 'pandas.compat' has no attribute 'StringIO'",
     "output_type": "error",
     "traceback": [
      "\u001b[1;31m---------------------------------------------------------------------------\u001b[0m",
      "\u001b[1;31mAttributeError\u001b[0m                            Traceback (most recent call last)",
      "\u001b[1;32m<ipython-input-17-4dadc2079785>\u001b[0m in \u001b[0;36m<module>\u001b[1;34m\u001b[0m\n\u001b[0;32m      2\u001b[0m \u001b[0mdf\u001b[0m \u001b[1;33m=\u001b[0m \u001b[0mpd\u001b[0m\u001b[1;33m.\u001b[0m\u001b[0mread_csv\u001b[0m\u001b[1;33m(\u001b[0m\u001b[1;34m'officialfile.txt'\u001b[0m\u001b[1;33m,\u001b[0m \u001b[0mdelimiter\u001b[0m\u001b[1;33m=\u001b[0m\u001b[1;34m'||'\u001b[0m\u001b[1;33m,\u001b[0m \u001b[0mheader\u001b[0m\u001b[1;33m=\u001b[0m\u001b[1;32mNone\u001b[0m\u001b[1;33m)\u001b[0m\u001b[1;33m\u001b[0m\u001b[1;33m\u001b[0m\u001b[0m\n\u001b[0;32m      3\u001b[0m \u001b[0mdf\u001b[0m \u001b[1;33m=\u001b[0m \u001b[0mdf\u001b[0m\u001b[1;33m.\u001b[0m\u001b[0mset_index\u001b[0m\u001b[1;33m(\u001b[0m\u001b[1;36m0\u001b[0m\u001b[1;33m)\u001b[0m\u001b[1;33m.\u001b[0m\u001b[0mT\u001b[0m\u001b[1;33m\u001b[0m\u001b[1;33m\u001b[0m\u001b[0m\n\u001b[1;32m----> 4\u001b[1;33m \u001b[0mdf\u001b[0m \u001b[1;33m=\u001b[0m \u001b[0mpd\u001b[0m\u001b[1;33m.\u001b[0m\u001b[0mread_csv\u001b[0m\u001b[1;33m(\u001b[0m\u001b[0mpd\u001b[0m\u001b[1;33m.\u001b[0m\u001b[0mcompat\u001b[0m\u001b[1;33m.\u001b[0m\u001b[0mStringIO\u001b[0m\u001b[1;33m(\u001b[0m\u001b[0mdata\u001b[0m\u001b[1;33m)\u001b[0m\u001b[1;33m,\u001b[0m\u001b[0msep\u001b[0m\u001b[1;33m=\u001b[0m\u001b[1;34m':'\u001b[0m\u001b[1;33m,\u001b[0m\u001b[0mheader\u001b[0m\u001b[1;33m=\u001b[0m\u001b[1;32mNone\u001b[0m\u001b[1;33m)\u001b[0m\u001b[1;33m\u001b[0m\u001b[1;33m\u001b[0m\u001b[0m\n\u001b[0m\u001b[0;32m      5\u001b[0m \u001b[0mprint\u001b[0m\u001b[1;33m(\u001b[0m\u001b[0mdf\u001b[0m\u001b[1;33m.\u001b[0m\u001b[0mset_index\u001b[0m\u001b[1;33m(\u001b[0m\u001b[1;36m0\u001b[0m\u001b[1;33m)\u001b[0m\u001b[1;33m.\u001b[0m\u001b[0mT\u001b[0m\u001b[1;33m)\u001b[0m\u001b[1;33m\u001b[0m\u001b[1;33m\u001b[0m\u001b[0m\n",
      "\u001b[1;31mAttributeError\u001b[0m: module 'pandas.compat' has no attribute 'StringIO'"
     ]
    }
   ],
   "source": [
    "dataset=np.loadtxt('originaldoc.csv',delimiter='||')\n",
    "#import pandas as pd\n",
    "#df = pd.read_csv('officialfile.txt', delimiter='||', header=None)\n",
    "#df = df.set_index(0).T\n",
    "#df = pd.read_csv(pd.compat.StringIO(data),sep=':',header=None)\n",
    "#print(df.set_index(0).T)"
   ]
  },
  {
   "cell_type": "code",
   "execution_count": null,
   "metadata": {},
   "outputs": [],
   "source": []
  }
 ],
 "metadata": {
  "kernelspec": {
   "display_name": "Python 3",
   "language": "python",
   "name": "python3"
  },
  "language_info": {
   "codemirror_mode": {
    "name": "ipython",
    "version": 3
   },
   "file_extension": ".py",
   "mimetype": "text/x-python",
   "name": "python",
   "nbconvert_exporter": "python",
   "pygments_lexer": "ipython3",
   "version": "3.7.4"
  }
 },
 "nbformat": 4,
 "nbformat_minor": 4
}
