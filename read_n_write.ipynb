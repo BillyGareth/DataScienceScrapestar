{
 "cells": [
  {
   "cell_type": "code",
   "execution_count": 1,
   "metadata": {},
   "outputs": [
    {
     "name": "stdout",
     "output_type": "stream",
     "text": [
      "item_name.html\n",
      "r\n"
     ]
    }
   ],
   "source": [
    "f = open('item_name.html','r')\n",
    "\n",
    "print(f.name)\n",
    "print(f.mode)\n",
    "\n",
    "f.close()"
   ]
  },
  {
   "cell_type": "code",
   "execution_count": 2,
   "metadata": {
    "scrolled": true
   },
   "outputs": [
    {
     "name": "stdout",
     "output_type": "stream",
     "text": [
      "[<h3 class=\"name\">Ulefone Note 7, 6.1\", 1GB + 16GB (Dual SIM), Black</h3>, <h3 class=\"name\">Tecno F1 - 5.0\" - 8GB+1GB RAM - 2000mAh - Dual SIM - Elegant Black</h3>, <h3 class=\"name\">Ulefone Note 7 Pro, 6.1\" HD, 3GB +32GB (Dual SIM) - Black</h3>, <h3 class=\"name\">Ulefone Note 7, 6.1 Inches, 1GB + 16GB (Dual SIM) - Twilight</h3>, <h3 class=\"name\">Ulefone Note 7 - 6.1\"- 1GB+16GB - 8MP+2MP+2MP - DUAL SIM - Green</h3>, <h3 class=\"name\">Gionee M6 Mini, 5.45\", 1GB +16GB (Dual SIM), Black</h3>, <h3 class=\"name\">UMIDIGI A7 Pro - 6.3\" - 4GB + 64GB - Android 10 Quad Camera - Dual SIM - Ocean Blue</h3>, <h3 class=\"name\">Tecno Spark 5 Air, 7\", 32GB + 2GB RAM (Dual SIM), 5000mAh, Ice Jediete</h3>, <h3 class=\"name\">Gionee M6 Mini, 5.45\", 1 GB + 16 GB (Dual SIM) - Blue</h3>, <h3 class=\"name\">XIAOMI Redmi Note 8, 6.3\" FHD, 4GB RAM - 64GB, 48MP, 4G - Black</h3>, <h3 class=\"name\">Tecno POP 3, 5.7\", 1GB + 16GB, 3500mAh, Dual Sim - Black + FREE Cover &amp;  OTG Cable</h3>, <h3 class=\"name\">Tecno Camon 15, 6.6\", 64GB + 4GB (Dual SIM), 48M AI Quad Camera - Shoal Gold</h3>, <h3 class=\"name\">X AGE ACE, 5\", 8GB + 1GB, 5MP+2MP Camera, (Dual SIM), Black</h3>, <h3 class=\"name\">Oppo A1k, 6.1\", 32 GB + 2 GB, 4000 MAh (Dual SIM) - Black</h3>, <h3 class=\"name\">XIAOMI Redmi Note 8, 6.3\", FHD, 4 GB + 64 GB (Dual SIM) - Blue</h3>, <h3 class=\"name\">Tecno F1 - 5.0\" - 8GB+1GB - 2000mAh Battery - Dual SIM - Champagne Gold</h3>, <h3 class=\"name\">Tecno Camon 12, 6.52\" FHD, 64GB + 4GB, Android, (Dual SIM), Blue</h3>, <h3 class=\"name\">Cubot R15 Pro - 6.26\" - 3 GB + 32 GB -Stock Android 9.0 - (Dual SIM) - Black</h3>, <h3 class=\"name\">Safaricom Neon Ray,  5â€™',1 GB  + 8 GB, (Single SIM) - Black + FREE Protective Cover</h3>, <h3 class=\"name\">Cubot R15 Pro 6.26\" - 3GB+32GB -8MP+13MP Dual SIM - Aurora</h3>, <h3 class=\"name\">Ulefone Note 7 Pro, 6.1\", 3GB RAM +32GB (Dual SIM), Gold</h3>, <h3 class=\"name\">Tecno Pop 3 - 5.7\"- 16GB+1GB RAM - 3500mAh Dual SIM - Black FREE SELFIE + RING</h3>, <h3 class=\"name\">UMIDIGI A3X, 5.7\",  3GB RAM + 16GB, Android 10, Dual SIM - Space Gray</h3>, <h3 class=\"name\">Infinix NOTE 7, 6.95\",  128GB + 6GB (Dual SIM), 5000mAh, Black </h3>, <h3 class=\"name\">Oppo F11 Pro, 6.5\", 6GB RAM +  128GB (Dual SIM) - Thunder Black</h3>, <h3 class=\"name\">Samsung Galaxy A11, 6.4\", 32GB + 2GB RAM (Dual SIM), 4000mAh, Blue</h3>, <h3 class=\"name\">Tecno T402 - 3 SIM cards - --Wireless FM Radio - Black</h3>, <h3 class=\"name\">Huawei Y7 Prime (2019), 6.26\", 32 GB + 3 GB, (Dual SIM) - Black</h3>, <h3 class=\"name\">Nokia C1, 5.45\", 1GB +16GB - (DUAL SIM),Android 9 Pie, Charcoal + FREE OTG</h3>, <h3 class=\"name\">Huawei Y7 Prime (2019), 6.26\", 64GB + 3GB (Dual), Aurora Blue</h3>, <h3 class=\"name\">X AGE Ace Blue, 5\", 1 GB + 8 GB, (Dual SIM) - Blue</h3>, <h3 class=\"name\">Infinix Hot 9 , 6.6\", 32GB + 2GB RAM (Dual SIM) 5000mAh - Ocean Wave</h3>, <h3 class=\"name\">Cubot R15 Pro - 6.26\" - (3GB+32GB) - 8MP+13MP - Dual SIM - Green</h3>, <h3 class=\"name\">Apple IPhone 4S, 16GB + 512MB RAM - White (Refurbiished)</h3>, <h3 class=\"name\">Cubot X19, 5.93 Inches, 4 GB + 64 GB, (Dual SIM),  - Gradient</h3>, <h3 class=\"name\">Nokia 2.3, 6.2\", Android One, 32GB + 2GB (Dual SIM) - Charcoal</h3>, <h3 class=\"name\">Infinix Hot 8 Lite,  6.6\", 2GB + 32GB (Dual SIM) 3G, Black</h3>, <h3 class=\"name\">Nokia 105 - Black - Dual sim</h3>, <h3 class=\"name\">Tecno F1 - 5\" - 8GB+1GB RAM - 2000mAh - Dual SIM - Black</h3>, <h3 class=\"name\">Infinix Hot 8 Lite 6.6\" 32GB+2GB (Dual SIM) - Purple + FREE OTG CABLE</h3>, <h3 class=\"name\"></h3>, <h3 class=\"name\"></h3>, <h3 class=\"name\"></h3>, <h3 class=\"name\"></h3>, <h3 class=\"name\"></h3>, <h3 class=\"name\"></h3>, <h3 class=\"name\"></h3>, <h3 class=\"name\"></h3>]\n"
     ]
    }
   ],
   "source": [
    "# Use of context manager\n",
    "with open('item_name.html','r') as f:\n",
    "    f_contents = f.read() #readlines-all lines #readline-one line at a time\n",
    "    print(f_contents)"
   ]
  },
  {
   "cell_type": "code",
   "execution_count": 7,
   "metadata": {},
   "outputs": [
    {
     "name": "stdout",
     "output_type": "stream",
     "text": [
      "True\n"
     ]
    }
   ],
   "source": [
    "print(f.closed)"
   ]
  },
  {
   "cell_type": "code",
   "execution_count": 11,
   "metadata": {},
   "outputs": [
    {
     "name": "stdout",
     "output_type": "stream",
     "text": [
      "testfile.txt\n",
      "r\n"
     ]
    }
   ],
   "source": [
    "f = open('testfile.txt','r')\n",
    "\n",
    "print(f.name)\n",
    "print(f.mode)\n",
    "\n",
    "f.close()"
   ]
  },
  {
   "cell_type": "code",
   "execution_count": 13,
   "metadata": {},
   "outputs": [
    {
     "name": "stdout",
     "output_type": "stream",
     "text": [
      "1)This is a test file!\n",
      "\n"
     ]
    }
   ],
   "source": [
    "with open('testfile.txt','r') as f:\n",
    "    f_contents = f.readline() #readlines-all lines #readline-one line at a time\n",
    "    print(f_contents)"
   ]
  },
  {
   "cell_type": "code",
   "execution_count": 16,
   "metadata": {},
   "outputs": [
    {
     "name": "stdout",
     "output_type": "stream",
     "text": [
      "1)This is a test file!\n",
      "2)With multiple lines of data\n"
     ]
    }
   ],
   "source": [
    "with open('testfile.txt','r') as f:\n",
    "    f_contents = f.readline() #readlines-all lines #readline-one line at a time\n",
    "    print(f_contents,end='')\n",
    "    \n",
    "    f_contents = f.readline() #readlines-all lines #readline-one line at a time\n",
    "    print(f_contents,end='')"
   ]
  },
  {
   "cell_type": "code",
   "execution_count": 17,
   "metadata": {},
   "outputs": [
    {
     "name": "stdout",
     "output_type": "stream",
     "text": [
      "1)This is a test file!\n",
      "2)With multiple lines of data\n",
      "3)Third line\n",
      "4)Fourth line\n",
      "5)Fifth line\n",
      "6)Sixth line\n",
      "7)Seventh line\n",
      "8)Eigth line\n",
      "9)Ninth line\n",
      "10)Tenth line"
     ]
    }
   ],
   "source": [
    "with open('testfile.txt','r') as f:\n",
    "    for line in f:\n",
    "        print(line,end='')"
   ]
  },
  {
   "cell_type": "code",
   "execution_count": 19,
   "metadata": {},
   "outputs": [
    {
     "name": "stdout",
     "output_type": "stream",
     "text": [
      "1)This is a test file!\n",
      "2)With multiple lines of data\n",
      "3)Third line\n",
      "4)Fourth line\n",
      "5)Fifth line\n",
      "6)Sixth line\n",
      "7)Seventh line\n",
      "8)Eigth line\n",
      "9)Ninth line\n",
      "10)Tenth line"
     ]
    }
   ],
   "source": [
    "with open('testfile.txt','r') as f:\n",
    "    f_contents = f.read(100) #readlines-all lines #readline-one line at a time\n",
    "    print(f_contents,end='')\n",
    "    \n",
    "    f_contents = f.read(100) #readlines-all lines #readline-one line at a time\n",
    "    print(f_contents,end='')"
   ]
  },
  {
   "cell_type": "code",
   "execution_count": 20,
   "metadata": {},
   "outputs": [
    {
     "name": "stdout",
     "output_type": "stream",
     "text": [
      "1)This is a test file!\n",
      "2)With multiple lines of data\n",
      "3)Third line\n",
      "4)Fourth line\n",
      "5)Fifth line\n",
      "6)Sixth line\n",
      "7)Seventh line\n",
      "8)Eigth line\n",
      "9)Ninth line\n",
      "10)Tenth line"
     ]
    }
   ],
   "source": [
    "with open('testfile.txt','r') as f:\n",
    "    size_to_read = 100\n",
    "    f_contents = f.read(size_to_read)\n",
    "    while len(f_contents)>0:\n",
    "        print(f_contents,end='')\n",
    "        f_contents = f.read(size_to_read)"
   ]
  },
  {
   "cell_type": "code",
   "execution_count": 21,
   "metadata": {},
   "outputs": [
    {
     "name": "stdout",
     "output_type": "stream",
     "text": [
      "1)This is ||a test fil||e!\n",
      "2)With ||multiple l||ines of da||ta\n",
      "3)Third|| line\n",
      "4)Fo||urth line\n",
      "||5)Fifth li||ne\n",
      "6)Sixth|| line\n",
      "7)Se||venth line||\n",
      "8)Eigth l||ine\n",
      "9)Nint||h line\n",
      "10)||Tenth line||"
     ]
    }
   ],
   "source": [
    "with open('testfile.txt','r') as f:\n",
    "    size_to_read = 10\n",
    "    f_contents = f.read(size_to_read)\n",
    "    while len(f_contents)>0:\n",
    "        print(f_contents,end='||')\n",
    "        f_contents = f.read(size_to_read)"
   ]
  },
  {
   "cell_type": "code",
   "execution_count": 23,
   "metadata": {},
   "outputs": [
    {
     "name": "stdout",
     "output_type": "stream",
     "text": [
      "10\n"
     ]
    }
   ],
   "source": [
    "with open('testfile.txt','r') as f:\n",
    "    size_to_read = 10\n",
    "    f_contents = f.read(size_to_read)\n",
    "    print(f.tell())"
   ]
  },
  {
   "cell_type": "code",
   "execution_count": 24,
   "metadata": {},
   "outputs": [
    {
     "name": "stdout",
     "output_type": "stream",
     "text": [
      "1)This is 1)This is "
     ]
    }
   ],
   "source": [
    "with open('testfile.txt','r') as f:\n",
    "    size_to_read = 10\n",
    "    \n",
    "    \n",
    "    f_contents = f.read(size_to_read) #readlines-all lines #readline-one line at a time\n",
    "    print(f_contents,end='')\n",
    "    \n",
    "    f.seek(0) # from the beginning\n",
    "    \n",
    "    f_contents = f.read(size_to_read) #readlines-all lines #readline-one line at a time\n",
    "    print(f_contents,end='')"
   ]
  },
  {
   "cell_type": "code",
   "execution_count": 25,
   "metadata": {},
   "outputs": [],
   "source": [
    "with open('newTestfile.txt','w') as f:\n",
    "    f.write('Test')"
   ]
  },
  {
   "cell_type": "code",
   "execution_count": 26,
   "metadata": {},
   "outputs": [],
   "source": [
    "with open('newTestfile.txt','w') as f:\n",
    "    f.write('Test')\n",
    "    f.write('Test')"
   ]
  },
  {
   "cell_type": "code",
   "execution_count": 27,
   "metadata": {},
   "outputs": [],
   "source": [
    "with open('newTestfile.txt','w') as f:\n",
    "    f.write('Test')\n",
    "    f.seek(0)\n",
    "    f.write('Test')"
   ]
  },
  {
   "cell_type": "code",
   "execution_count": 28,
   "metadata": {},
   "outputs": [],
   "source": [
    "with open('newTestfile.txt','w') as f:\n",
    "    f.write('Test')\n",
    "    f.seek(0)\n",
    "    f.write('B')"
   ]
  },
  {
   "cell_type": "code",
   "execution_count": 29,
   "metadata": {},
   "outputs": [],
   "source": [
    "with open('testfile.txt','r') as rf: # 'rb' for reading in binary format\n",
    "    with open('testfile_copy','w') as wf: #for image use 'wb' for binary mode\n",
    "        for line in rf:\n",
    "            wf.write(line)"
   ]
  },
  {
   "cell_type": "code",
   "execution_count": 33,
   "metadata": {},
   "outputs": [],
   "source": [
    "#reading bytes in sizes till a full copy is created\n",
    "with open('unityi.png','rb') as rf:\n",
    "    with open('copy_unityi.png','wb') as wf:\n",
    "        \n",
    "        chunk_size = 4096\n",
    "        rf_chunk = rf.read(chunk_size)\n",
    "        while len(rf_chunk)>0:\n",
    "            wf.write(rf_chunk)\n",
    "            rf_chunk = rf.read(chunk_size)"
   ]
  }
 ],
 "metadata": {
  "kernelspec": {
   "display_name": "Python 3",
   "language": "python",
   "name": "python3"
  },
  "language_info": {
   "codemirror_mode": {
    "name": "ipython",
    "version": 3
   },
   "file_extension": ".py",
   "mimetype": "text/x-python",
   "name": "python",
   "nbconvert_exporter": "python",
   "pygments_lexer": "ipython3",
   "version": "3.7.4"
  }
 },
 "nbformat": 4,
 "nbformat_minor": 4
}
