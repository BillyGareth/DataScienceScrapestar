{
 "cells": [
  {
   "cell_type": "code",
   "execution_count": 7,
   "metadata": {},
   "outputs": [
    {
     "ename": "IndentationError",
     "evalue": "unindent does not match any outer indentation level (<tokenize>, line 22)",
     "output_type": "error",
     "traceback": [
      "\u001b[1;36m  File \u001b[1;32m\"<tokenize>\"\u001b[1;36m, line \u001b[1;32m22\u001b[0m\n\u001b[1;33m    for i in item_name(0,100):\u001b[0m\n\u001b[1;37m    ^\u001b[0m\n\u001b[1;31mIndentationError\u001b[0m\u001b[1;31m:\u001b[0m unindent does not match any outer indentation level\n"
     ]
    }
   ],
   "source": [
    "from bs4 import BeautifulSoup as soup\n",
    "from urllib.request import urlopen, Request\n",
    "\n",
    "url=\"https://www.jumia.co.ke/smartphones/\"\n",
    "\n",
    "req=Request(url, headers={\"User-Agent\":\"Mozilla/5.0\"})\n",
    "\n",
    "webpage=urlopen(req).read()\n",
    "\n",
    "page_soup = soup(webpage,\"html.parser\")\n",
    "\n",
    "containers = page_soup.findAll(\"div\",{\"class\":\"info\"})\n",
    "\n",
    "filename = \"phone.csv\"\n",
    "f = open(filename,\"w\")\n",
    "headers=\"pro_name,price\\n\"\n",
    "f.write(headers)\n",
    "\n",
    "\n",
    "for container in containers:\n",
    "\titem_name=page_soup.findAll(\"h3\",\"name\")\n",
    "\tpro_name = item_name[0].text\n",
    "\n",
    "\tpricing=page_soup.findAll(\"div\",\"prc\")\n",
    "\tprice=pricing[0].text\n",
    "\n",
    "\t#reduction=page_soup.findAll(\"div\",\"tag_dsct_sm\")\n",
    "\t#discount=reduction[0].text\n",
    "\t#print(\"pro_name: \" + pro_name)\n",
    "\t#print(\"price: \" + price)\n",
    "\n",
    "\tf.write(pro_name.replace(\",\",\"|\") + \",\" + price + \"\\n\")\n",
    "\n",
    "f.close()"
   ]
  },
  {
   "cell_type": "code",
   "execution_count": null,
   "metadata": {},
   "outputs": [],
   "source": []
  },
  {
   "cell_type": "code",
   "execution_count": null,
   "metadata": {},
   "outputs": [],
   "source": []
  }
 ],
 "metadata": {
  "kernelspec": {
   "display_name": "Python 3",
   "language": "python",
   "name": "python3"
  },
  "language_info": {
   "codemirror_mode": {
    "name": "ipython",
    "version": 3
   },
   "file_extension": ".py",
   "mimetype": "text/x-python",
   "name": "python",
   "nbconvert_exporter": "python",
   "pygments_lexer": "ipython3",
   "version": "3.7.4"
  }
 },
 "nbformat": 4,
 "nbformat_minor": 4
}
